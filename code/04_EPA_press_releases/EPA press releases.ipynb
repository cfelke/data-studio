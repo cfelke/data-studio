{
 "cells": [
  {
   "cell_type": "code",
   "execution_count": 1,
   "metadata": {},
   "outputs": [],
   "source": [
    "from selenium import webdriver\n",
    "from selenium.webdriver.common.keys import Keys\n",
    "from selenium.webdriver.support.ui import Select\n",
    "from selenium.webdriver.support.ui import WebDriverWait"
   ]
  },
  {
   "cell_type": "code",
   "execution_count": 2,
   "metadata": {},
   "outputs": [],
   "source": [
    "# Get the press releases from 2017 and 2018 and put them in a csv\n",
    "\n",
    "driver = webdriver.Chrome()\n",
    "url = 'https://www.epa.gov/newsreleases/search'"
   ]
  },
  {
   "cell_type": "code",
   "execution_count": 3,
   "metadata": {},
   "outputs": [],
   "source": [
    "driver.get(url)"
   ]
  },
  {
   "cell_type": "code",
   "execution_count": 27,
   "metadata": {},
   "outputs": [
    {
     "data": {
      "text/plain": [
       "[{'url': 'https://www.epa.gov/newsreleases/love-canal-revealed-national-problem-superfund-provided-solution'},\n",
       " {'url': 'https://www.epa.gov/newsreleases/epa-awards-233601-pinellas-and-hillsborough-counties-improve-air-quality'},\n",
       " {'url': 'https://www.epa.gov/newsreleases/la-epa-y-la-junta-de-calidad-ambiental-de-puerto-rico-colaboran-para-controlar-y'},\n",
       " {'url': 'https://www.epa.gov/newsreleases/epa-and-puerto-rico-environmental-quality-board-collaborate-control-and-monitor-air'},\n",
       " {'url': 'https://www.epa.gov/newsreleases/epa-proposes-actions-enhance-cleanup-work-already-underway-fair-lawn-well-field'},\n",
       " {'url': 'https://www.epa.gov/newsreleases/epa-week-review-730-83'},\n",
       " {'url': 'https://www.epa.gov/newsreleases/anchor-glass-container-corporation-cut-harmful-air-pollution-improve-compliance'},\n",
       " {'url': 'https://www.epa.gov/newsreleases/epa-gears-pfas-community-engagement-event-colorado-springs-next-week'},\n",
       " {'url': 'https://www.epa.gov/newsreleases/epa-releases-agenda-fayetteville-community-engagement-event'},\n",
       " {'url': 'https://www.epa.gov/newsreleases/acting-administrator-wheeler-updates-administrators-superfund-emphasis-list'},\n",
       " {'url': 'https://www.epa.gov/newsreleases/epa-awards-100000-philadelphia-monitor-particle-pollution'},\n",
       " {'url': 'https://www.epa.gov/newsreleases/us-epa-announces-136913-washoe-county-health-district-improve-air-quality'},\n",
       " {'url': 'https://www.epa.gov/newsreleases/wall-street-journal-make-cars-great-again-opinion'},\n",
       " {'url': 'https://www.epa.gov/newsreleases/epa-proposes-superfund-cleanup-protect-community-cabo-rojo-puerto-rico'},\n",
       " {'url': 'https://www.epa.gov/newsreleases/us-epa-and-dot-propose-fuel-economy-standards-my-2021-2026-vehicles'}]"
      ]
     },
     "execution_count": 27,
     "metadata": {},
     "output_type": "execute_result"
    }
   ],
   "source": [
    "results = driver.find_elements_by_tag_name('h3')\n",
    "EPA = []\n",
    "for result in results[:15]:\n",
    "    press = {}\n",
    "    #print(result.text)\n",
    "    url = result.find_element_by_tag_name('a')\n",
    "    #print(url.get_attribute('href'))\n",
    "    press['url'] = url.get_attribute('href')   \n",
    "    EPA.append(press)\n",
    "    \n",
    "EPA"
   ]
  },
  {
   "cell_type": "code",
   "execution_count": 32,
   "metadata": {},
   "outputs": [
    {
     "name": "stdout",
     "output_type": "stream",
     "text": [
      "Scraping a new page\n",
      "Scraping a new page\n",
      "Scraping a new page\n",
      "Scraping a new page\n",
      "Scraping a new page\n",
      "Scraping a new page\n",
      "Scraping a new page\n",
      "Scraping a new page\n",
      "Scraping a new page\n",
      "Scraping a new page\n",
      "Scraping a new page\n",
      "Scraping a new page\n",
      "Scraping a new page\n",
      "Scraping a new page\n",
      "Scraping a new page\n",
      "Scraping a new page\n",
      "Scraping a new page\n",
      "Scraping a new page\n",
      "Scraping a new page\n",
      "Scraping a new page\n",
      "Scraping a new page\n",
      "Scraping a new page\n",
      "Scraping a new page\n",
      "Scraping a new page\n",
      "Scraping a new page\n",
      "Scraping a new page\n",
      "Scraping a new page\n",
      "Scraping a new page\n",
      "Scraping a new page\n",
      "Scraping a new page\n",
      "Scraping a new page\n",
      "Scraping a new page\n",
      "Scraping a new page\n",
      "Scraping a new page\n",
      "Scraping a new page\n",
      "Scraping a new page\n",
      "Scraping a new page\n",
      "Scraping a new page\n",
      "Scraping a new page\n",
      "Scraping a new page\n",
      "Scraping a new page\n",
      "Scraping a new page\n",
      "Scraping a new page\n",
      "Scraping a new page\n",
      "Scraping a new page\n",
      "Scraping a new page\n",
      "Scraping a new page\n",
      "Scraping a new page\n",
      "Scraping a new page\n",
      "Scraping a new page\n",
      "Scraping a new page\n",
      "Scraping a new page\n",
      "Scraping a new page\n",
      "Scraping a new page\n",
      "Scraping a new page\n",
      "Scraping a new page\n",
      "Scraping a new page\n",
      "Scraping a new page\n",
      "Scraping a new page\n",
      "Scraping a new page\n",
      "Scraping a new page\n",
      "Scraping a new page\n",
      "Scraping a new page\n",
      "This is the last page\n"
     ]
    }
   ],
   "source": [
    "try:\n",
    "    EPA = []\n",
    "    while True:\n",
    "        print('Scraping a new page')\n",
    "        results = driver.find_elements_by_tag_name('h3')\n",
    "        for result in results[:15]:\n",
    "            press = {}\n",
    "            #print(result.text)\n",
    "            url = result.find_element_by_tag_name('a')\n",
    "            #print(url.get_attribute('href'))\n",
    "            press['url'] = url.get_attribute('href')   \n",
    "            EPA.append(press)\n",
    "        next_page = driver.find_element_by_class_name('pager__link--next')\n",
    "        driver.execute_script(\"arguments[0].scrollIntoView(true)\", next_page)\n",
    "        next_page.click()\n",
    "except:\n",
    "    print('This is the last page')"
   ]
  },
  {
   "cell_type": "code",
   "execution_count": 37,
   "metadata": {},
   "outputs": [
    {
     "name": "stdout",
     "output_type": "stream",
     "text": [
      "Scraping a new page\n",
      "Scraping a new page\n",
      "Scraping a new page\n",
      "Scraping a new page\n",
      "Scraping a new page\n",
      "Scraping a new page\n",
      "Scraping a new page\n",
      "Scraping a new page\n",
      "Scraping a new page\n",
      "Scraping a new page\n",
      "Scraping a new page\n",
      "Scraping a new page\n",
      "Scraping a new page\n",
      "Scraping a new page\n",
      "Scraping a new page\n",
      "Scraping a new page\n",
      "Scraping a new page\n",
      "Scraping a new page\n",
      "Scraping a new page\n",
      "Scraping a new page\n",
      "Scraping a new page\n",
      "Scraping a new page\n",
      "Scraping a new page\n",
      "Scraping a new page\n",
      "Scraping a new page\n",
      "Scraping a new page\n",
      "Scraping a new page\n",
      "Scraping a new page\n",
      "Scraping a new page\n",
      "Scraping a new page\n",
      "Scraping a new page\n",
      "Scraping a new page\n",
      "Scraping a new page\n",
      "Scraping a new page\n",
      "Scraping a new page\n",
      "Scraping a new page\n",
      "Scraping a new page\n",
      "Scraping a new page\n",
      "Scraping a new page\n",
      "Scraping a new page\n",
      "Scraping a new page\n",
      "Scraping a new page\n",
      "Scraping a new page\n",
      "Scraping a new page\n",
      "Scraping a new page\n",
      "Scraping a new page\n",
      "Scraping a new page\n",
      "Scraping a new page\n",
      "Scraping a new page\n",
      "Scraping a new page\n",
      "Scraping a new page\n",
      "Scraping a new page\n",
      "Scraping a new page\n",
      "Scraping a new page\n",
      "Scraping a new page\n",
      "Scraping a new page\n",
      "Scraping a new page\n",
      "Scraping a new page\n",
      "Scraping a new page\n",
      "Scraping a new page\n",
      "Scraping a new page\n",
      "Scraping a new page\n",
      "Scraping a new page\n",
      "Scraping a new page\n",
      "Scraping a new page\n",
      "Scraping a new page\n",
      "Scraping a new page\n",
      "Scraping a new page\n",
      "Scraping a new page\n",
      "Scraping a new page\n",
      "Scraping a new page\n",
      "Scraping a new page\n",
      "Scraping a new page\n",
      "Scraping a new page\n",
      "Scraping a new page\n",
      "Scraping a new page\n",
      "Scraping a new page\n",
      "Scraping a new page\n",
      "Scraping a new page\n",
      "Scraping a new page\n",
      "Scraping a new page\n",
      "Scraping a new page\n",
      "Scraping a new page\n",
      "Scraping a new page\n",
      "Scraping a new page\n",
      "Scraping a new page\n",
      "Scraping a new page\n",
      "Scraping a new page\n",
      "Scraping a new page\n",
      "Scraping a new page\n",
      "Scraping a new page\n",
      "Scraping a new page\n",
      "Scraping a new page\n",
      "Scraping a new page\n",
      "Scraping a new page\n",
      "Scraping a new page\n",
      "Scraping a new page\n",
      "Scraping a new page\n",
      "Scraping a new page\n",
      "Scraping a new page\n",
      "Scraping a new page\n",
      "Scraping a new page\n",
      "Scraping a new page\n",
      "Scraping a new page\n",
      "Scraping a new page\n",
      "Scraping a new page\n",
      "Scraping a new page\n",
      "Scraping a new page\n",
      "Scraping a new page\n",
      "Scraping a new page\n",
      "Scraping a new page\n",
      "Scraping a new page\n",
      "Scraping a new page\n",
      "Scraping a new page\n",
      "Scraping a new page\n",
      "Scraping a new page\n",
      "Scraping a new page\n",
      "Scraping a new page\n",
      "Scraping a new page\n",
      "Scraping a new page\n",
      "Scraping a new page\n",
      "Scraping a new page\n",
      "Scraping a new page\n",
      "Scraping a new page\n",
      "Scraping a new page\n",
      "Scraping a new page\n",
      "Scraping a new page\n",
      "Scraping a new page\n",
      "Scraping a new page\n",
      "Scraping a new page\n",
      "Scraping a new page\n",
      "Scraping a new page\n",
      "Scraping a new page\n",
      "Scraping a new page\n",
      "Scraping a new page\n",
      "Scraping a new page\n",
      "Scraping a new page\n",
      "Scraping a new page\n",
      "This is the last page\n"
     ]
    }
   ],
   "source": [
    "try:\n",
    "    EPA = []\n",
    "    while True:\n",
    "        print('Scraping a new page')\n",
    "        results = driver.find_elements_by_tag_name('h3')\n",
    "        for result in results[:15]:\n",
    "            press = {}\n",
    "            #print(result.text)\n",
    "            press['name'] = result.text\n",
    "            url = result.find_element_by_tag_name('a')\n",
    "            #print(url.get_attribute('href'))\n",
    "            press['url'] = url.get_attribute('href')\n",
    "            \n",
    "            EPA.append(press)\n",
    "        next_page = driver.find_element_by_class_name('pager__link--next')\n",
    "        driver.execute_script(\"arguments[0].scrollIntoView(true)\", next_page)\n",
    "        next_page.click()\n",
    "except:\n",
    "    print('This is the last page')"
   ]
  },
  {
   "cell_type": "code",
   "execution_count": 38,
   "metadata": {},
   "outputs": [
    {
     "name": "stderr",
     "output_type": "stream",
     "text": [
      "C:\\Users\\Catharina\\AppData\\Local\\Programs\\Python\\Python35-32\\lib\\importlib\\_bootstrap.py:222: RuntimeWarning: numpy.dtype size changed, may indicate binary incompatibility. Expected 56, got 52\n",
      "  return f(*args, **kwds)\n",
      "C:\\Users\\Catharina\\AppData\\Local\\Programs\\Python\\Python35-32\\lib\\importlib\\_bootstrap.py:222: RuntimeWarning: numpy.dtype size changed, may indicate binary incompatibility. Expected 56, got 52\n",
      "  return f(*args, **kwds)\n"
     ]
    },
    {
     "data": {
      "text/html": [
       "<div>\n",
       "<style scoped>\n",
       "    .dataframe tbody tr th:only-of-type {\n",
       "        vertical-align: middle;\n",
       "    }\n",
       "\n",
       "    .dataframe tbody tr th {\n",
       "        vertical-align: top;\n",
       "    }\n",
       "\n",
       "    .dataframe thead th {\n",
       "        text-align: right;\n",
       "    }\n",
       "</style>\n",
       "<table border=\"1\" class=\"dataframe\">\n",
       "  <thead>\n",
       "    <tr style=\"text-align: right;\">\n",
       "      <th></th>\n",
       "      <th>name</th>\n",
       "      <th>url</th>\n",
       "    </tr>\n",
       "  </thead>\n",
       "  <tbody>\n",
       "    <tr>\n",
       "      <th>0</th>\n",
       "      <td>EPA removes Frontier Hard Chrome from national...</td>\n",
       "      <td>https://www.epa.gov/newsreleases/epa-removes-f...</td>\n",
       "    </tr>\n",
       "    <tr>\n",
       "      <th>1</th>\n",
       "      <td>Love Canal Revealed a National Problem; Superf...</td>\n",
       "      <td>https://www.epa.gov/newsreleases/love-canal-re...</td>\n",
       "    </tr>\n",
       "    <tr>\n",
       "      <th>2</th>\n",
       "      <td>EPA Awards $233,601 to Pinellas and Hillsborou...</td>\n",
       "      <td>https://www.epa.gov/newsreleases/epa-awards-23...</td>\n",
       "    </tr>\n",
       "    <tr>\n",
       "      <th>3</th>\n",
       "      <td>La EPA y la Junta de Calidad Ambiental de Puer...</td>\n",
       "      <td>https://www.epa.gov/newsreleases/la-epa-y-la-j...</td>\n",
       "    </tr>\n",
       "    <tr>\n",
       "      <th>4</th>\n",
       "      <td>EPA and Puerto Rico Environmental Quality Boar...</td>\n",
       "      <td>https://www.epa.gov/newsreleases/epa-and-puert...</td>\n",
       "    </tr>\n",
       "  </tbody>\n",
       "</table>\n",
       "</div>"
      ],
      "text/plain": [
       "                                                name  \\\n",
       "0  EPA removes Frontier Hard Chrome from national...   \n",
       "1  Love Canal Revealed a National Problem; Superf...   \n",
       "2  EPA Awards $233,601 to Pinellas and Hillsborou...   \n",
       "3  La EPA y la Junta de Calidad Ambiental de Puer...   \n",
       "4  EPA and Puerto Rico Environmental Quality Boar...   \n",
       "\n",
       "                                                 url  \n",
       "0  https://www.epa.gov/newsreleases/epa-removes-f...  \n",
       "1  https://www.epa.gov/newsreleases/love-canal-re...  \n",
       "2  https://www.epa.gov/newsreleases/epa-awards-23...  \n",
       "3  https://www.epa.gov/newsreleases/la-epa-y-la-j...  \n",
       "4  https://www.epa.gov/newsreleases/epa-and-puert...  "
      ]
     },
     "execution_count": 38,
     "metadata": {},
     "output_type": "execute_result"
    }
   ],
   "source": [
    "import pandas as pd\n",
    "\n",
    "df = pd.DataFrame(EPA)\n",
    "df.head()"
   ]
  },
  {
   "cell_type": "code",
   "execution_count": 46,
   "metadata": {},
   "outputs": [
    {
     "data": {
      "text/plain": [
       "(2069, 2)"
      ]
     },
     "execution_count": 46,
     "metadata": {},
     "output_type": "execute_result"
    }
   ],
   "source": [
    "df.shape"
   ]
  },
  {
   "cell_type": "code",
   "execution_count": 39,
   "metadata": {},
   "outputs": [],
   "source": [
    "df.to_csv('EPA_press_releases.csv', index=False)"
   ]
  },
  {
   "cell_type": "code",
   "execution_count": 40,
   "metadata": {},
   "outputs": [
    {
     "data": {
      "text/html": [
       "<div>\n",
       "<style scoped>\n",
       "    .dataframe tbody tr th:only-of-type {\n",
       "        vertical-align: middle;\n",
       "    }\n",
       "\n",
       "    .dataframe tbody tr th {\n",
       "        vertical-align: top;\n",
       "    }\n",
       "\n",
       "    .dataframe thead th {\n",
       "        text-align: right;\n",
       "    }\n",
       "</style>\n",
       "<table border=\"1\" class=\"dataframe\">\n",
       "  <thead>\n",
       "    <tr style=\"text-align: right;\">\n",
       "      <th></th>\n",
       "      <th>name</th>\n",
       "      <th>url</th>\n",
       "    </tr>\n",
       "  </thead>\n",
       "  <tbody>\n",
       "    <tr>\n",
       "      <th>0</th>\n",
       "      <td>EPA removes Frontier Hard Chrome from national Superfund site list</td>\n",
       "      <td>https://www.epa.gov/newsreleases/epa-removes-frontier-hard-chrome-national-superfund-site-list</td>\n",
       "    </tr>\n",
       "  </tbody>\n",
       "</table>\n",
       "</div>"
      ],
      "text/plain": [
       "                                                                 name  \\\n",
       "0  EPA removes Frontier Hard Chrome from national Superfund site list   \n",
       "\n",
       "                                                                                              url  \n",
       "0  https://www.epa.gov/newsreleases/epa-removes-frontier-hard-chrome-national-superfund-site-list  "
      ]
     },
     "execution_count": 40,
     "metadata": {},
     "output_type": "execute_result"
    }
   ],
   "source": [
    "pd.set_option('display.max_colwidth', -1)\n",
    "df.head(1)"
   ]
  },
  {
   "cell_type": "code",
   "execution_count": 41,
   "metadata": {},
   "outputs": [
    {
     "data": {
      "text/plain": [
       "'https://www.epa.gov/newsreleases/epa-removes-frontier-hard-chrome-national-superfund-site-list'"
      ]
     },
     "execution_count": 41,
     "metadata": {},
     "output_type": "execute_result"
    }
   ],
   "source": [
    "url = df.iloc[0].url\n",
    "url"
   ]
  },
  {
   "cell_type": "code",
   "execution_count": 43,
   "metadata": {},
   "outputs": [],
   "source": [
    "driver.get(url)"
   ]
  },
  {
   "cell_type": "code",
   "execution_count": 47,
   "metadata": {},
   "outputs": [],
   "source": [
    "def get_releases(row):\n",
    "    driver.get(row['url'])\n",
    "\n",
    "    releases = {}\n",
    "    releases['date'] = driver.find_element_by_class_name('date-display-single').text\n",
    "    releases['region'] = driver.find_element_by_class_name('lineage-item-level-0').text\n",
    "    releases['text'] = driver.find_element_by_class_name('pane-content').text\n",
    "\n",
    "    return pd.Series(releases)"
   ]
  },
  {
   "cell_type": "code",
   "execution_count": 49,
   "metadata": {},
   "outputs": [
    {
     "data": {
      "text/plain": [
       "dtype('O')"
      ]
     },
     "execution_count": 49,
     "metadata": {},
     "output_type": "execute_result"
    }
   ],
   "source": [
    "new_df = df.head(5).apply(get_releases, axis=1).join(df)"
   ]
  },
  {
   "cell_type": "code",
   "execution_count": 58,
   "metadata": {},
   "outputs": [
    {
     "data": {
      "text/html": [
       "<div>\n",
       "<style scoped>\n",
       "    .dataframe tbody tr th:only-of-type {\n",
       "        vertical-align: middle;\n",
       "    }\n",
       "\n",
       "    .dataframe tbody tr th {\n",
       "        vertical-align: top;\n",
       "    }\n",
       "\n",
       "    .dataframe thead th {\n",
       "        text-align: right;\n",
       "    }\n",
       "</style>\n",
       "<table border=\"1\" class=\"dataframe\">\n",
       "  <thead>\n",
       "    <tr style=\"text-align: right;\">\n",
       "      <th></th>\n",
       "      <th>date</th>\n",
       "      <th>region</th>\n",
       "      <th>text</th>\n",
       "    </tr>\n",
       "  </thead>\n",
       "  <tbody>\n",
       "    <tr>\n",
       "      <th>0</th>\n",
       "      <td>08/06/2018</td>\n",
       "      <td>Region 10</td>\n",
       "      <td>News Releases from Region 10\\nEPA removes Frontier Hard Chrome from national Superfund site list\\n08/06/2018\\nContact Information: \\nMark MacIntyre (macintyre.mark@epa.gov)\\n206-553-7302\\nThe U.S. Environmental Protection Agency has officially deleted the Frontier Hard Chrome Superfund site in the city of Vancouver, Washington from the agency’s National Priorities List.\\nEPA and the State of Washington have concluded that all appropriate actions under the Comprehensive Environmental Response, Compensation and Liability Act (the Nation’s Superfund law) have been implemented and that no further cleanup is required. Sites can only be deleted from the NPL after all remedies are successfully implemented and EPA and the State determine that all cleanup actions are complete and cleanup goals have been met. \\nThe 30-day public comment period on the proposed deletion ended June 20, 2018. After adding Frontier Hard Chrome to the NPL in 1983, the site was removed effective today, Monday, Aug 6, with the publication of the official notice in the Federal Register.\\nBackground\\nThe site is located immediately north of the Columbia River and east of Interstate 5. Frontier Hard Chrome performed chrome plating operations at the site from 1958 to 1983. Facility activities included discharging process wastewater containing hexavalent chromium directly to an on-site dry well. Site operations and waste disposal practices profoundly contaminated soil and groundwater with hexavalent chromium.\\nEPA placed the site on the Superfund Program’s National Priorities List in 1983. Excavation and treatment of contaminated soils and groundwater – largely Superfund funded - concluded in 2003.Approximately $14.5 million has been spent cleaning up the site.\\nIn 2004, EPA negotiated an agreement with Boulevard Investments and JH Kelly that allowed commercial re-development to move forward at the site. In 2016, following attainment of groundwater cleanup levels, monitoring wells were removed from the site, allowing the full site to be re-developed.  This spring, JH Kelly opened a 65,000-sq. ft., state-of-the-art, pipe fabrication facility and a completely remodeled office at the site.\\n#  #  #\\nFor more about site history and cleanup actions at Frontier Hard Chrome, please visit:  https://go.usa.gov/xUwD2\\nFor the Federal Register Notice: https://www.federalregister.gov/d/2018-16775</td>\n",
       "    </tr>\n",
       "    <tr>\n",
       "      <th>1</th>\n",
       "      <td>08/06/2018</td>\n",
       "      <td>Headquarters</td>\n",
       "      <td>News Releases from Headquarters›Land and Emergency Management (OLEM)\\nLove Canal Revealed a National Problem; Superfund Provided a Solution\\nEPA’s Superfund Task Force Continues to Ensure Cleanups Remain a Top Priority\\n08/06/2018\\nContact Information: \\nEPA Press Office (press@epa.gov)\\nWASHINGTON  — Today, the U.S. Environmental Protection Agency (EPA) commemorates the 40th anniversary of Love Canal, a tragedy that spurred a law to clean up hazardous waste and give voice to communities across the country. The federal Superfund law gave EPA the power to ensure that parties responsible for contamination pay for or perform the cleanup and, if there was no viable responsible party, to use public funds. Forty years after the first Presidential Emergency Declaration was signed, the cleanup at the Love Canal Superfund site remains protective of people’s health and the environment, and the Superfund program continues to provide environmental, public health, and economic benefits to communities nationwide.\\n\\n“The 40th anniversary of Love Canal is a reminder of both the devastating consequences of environmental disasters and the power of concerned citizens to spur change nationwide,” said Acting Administrator Andrew Wheeler. “The Superfund program is a top priority at EPA, and we are making tremendous progress cleaning up contaminated sites, protecting public health, and ensuring a tragedy like Love Canal never happens again.”\\n\\n“The Love Canal tragedy shook the Niagara Falls community, and it is in large part due to the hard work of community members to demand action, that brought about the passage of the then unprecedented Superfund law.” said EPA Regional Administrator Pete Lopez. “None of us want to see another community go through what this community has endured, and a strong Superfund program is an essential part of safeguarding the public.”\\n\\nIn August 1978, President Jimmy Carter issued the first of two emergency declarations at Love Canal after learning of reports from the community of strange odors and residues, basements flooded with contaminated groundwater, and health issues, including miscarriages and birth defects. Less than two years later, on December 11, 1980, Congress enacted the Comprehensive Environmental Response, Compensation, and Liability Act (CERCLA), which would become known as Superfund. Today, the Superfund program continues to make a visible and lasting difference in communities cleaning up the nation’s worst hazardous waste sites, tackling threats to public health and our natural environment, supporting local economies and enhancing quality of life, preventing future releases of hazardous substances, and leading to new advances in science and technology.\\n\\nUnder the Trump Administration, the Superfund program has reemerged as a priority to fulfill and strengthen EPA’s core mission of protecting human health and the environment. On May 22, 2017, EPA established the Superfund Task Force to provide recommendations on how EPA could streamline and improve the Superfund program. Just two months later, on July 25, 2017, EPA issued the Superfund Task Force Report, which included 42 recommendations in five goal areas:  \\nExpediting Cleanup and Remediation; \\nRe-Invigorating Responsible Party Cleanup and Reuse; \\nEncouraging Private Investment; \\nPromoting Redevelopment and Community Revitalization; and \\nEngaging Partners and Stakeholders. \\nIn the first year of Superfund Task Force, EPA made significant progress in carrying out the report’s recommendations and stands to complete all 42 recommendations by the end of 2019. These achievements will provide certainty to communities, state partners, and developers that the nation’s most hazardous sites will be cleaned up as quickly and safely as possible.\\nBackground:\\nLove Canal was originally intended to be a hydroelectric power plant. In the 1890s, William T. Love began excavating the original canal but later abandoned the project. From 1942 to approximately 1953, Hooker Chemicals &amp; Plastic Corp. (now Occidental Chemical Company) used the area as a landfill, disposing of an estimated 21,000 tons of chemicals and hazardous waste. Community residents first began reporting odors and residues at the Love Canal site in the 1960s. In the 1970s, groundwater contaminated with more than 80 industrial chemicals – including heavy metals, pesticides, and dioxin – had migrated through sewers and creeks and began seeping into people’s properties. Several presidential emergency declarations were issued and approximately 950 families were evacuated from a 10 square-block area surrounding the Love Canal landfill. \\n\\nAfter decades of extensive cleanup work by EPA and New York State, Love Canal was deleted from EPA’s National Priorities List of Superfund sites in 2004, but the Agency continues to actively monitor the site. Because groundwater is the pathway through which contamination could move, more than 100 groundwater monitoring on-site and off-site wells gather data quarterly. The data, which is evaluated by EPA and New York State, continues to show that the leachate collection system, the barrier drain, the landfill cap, and the monitoring wells are all intact and working properly. EPA also conducts comprehensive reviews of all data and information every five years to ensure that the remedy remains fully protective. These reviews will be conducted into perpetuity.\\n\\nAfter an extensive habitability study conducted by health and environmental experts was completed, some areas of the site were reopened and new homeowners have moved into the habitable areas of the site.  More than 260 formerly evacuated homes in the affected area were rehabilitated and sold to new residents, creating a viable new neighborhood. For information and images, visit EPA’s Love Canal website. \\n\\nOn the one-year anniversary of the EPA’s Superfund Task Force Report, EPA announced significant progress in carrying out the report’s recommendations.  These achievements will provide certainty to communities, state partners, and developers that the nation’s most hazardous sites will be cleaned up as quickly and safely as possible.\\n\\nEPA’s new “Superfund Task Force Recommendations 2018 Update” is available at: https://www.epa.gov/superfund/superfund-task-force-recommendations-2018-update\\nListen to EPA Region 2 Administrator Pete Lopez talk about the 40th anniversary of Love Canal on our podcast: https://www.epa.gov/podcasts\\n</td>\n",
       "    </tr>\n",
       "    <tr>\n",
       "      <th>2</th>\n",
       "      <td>08/06/2018</td>\n",
       "      <td>Region 04</td>\n",
       "      <td>News Releases from Region 04\\nEPA Awards $233,601 to Pinellas and Hillsborough Counties to Improve Air Quality\\n08/06/2018\\nContact Information: \\nDawn Harris-Young ( harris-young.dawn@epa.gov)\\n(404) 562-8421 (Direct), (404) 562-8400 (Main)\\nATLANTA (August 6, 2018) – The U.S. Environmental Protection Agency (EPA) awarded a $98,300 grant to the Pinellas County, Fla. Board of County Commissioners and a $135,301 grant to the Hillsborough County Environmental Protection Commission to conduct air quality monitoring. The Toxics Characterization National Air Toxics Trends Site grants will be used to conduct air toxics monitoring to measure volatile organic compounds, semi-volatiles, carbonyls, and metals in Pinellas and Hillsborough County.\\n“By continuing monitoring efforts under the National Air Toxics Trends Station program, we can make significant investments and progress towards improving Florida’s air quality,” said Region 4 Administrator Trey Glenn. “These grants will be an important continuation of the environmental outcomes under the Clean Air Act.”\\nThis project represents a continuation of a national ongoing effort to characterize air toxics and assess trends in ambient levels by conducting monitoring in urban and rural areas. Data resulting from the project will be submitted into the Air Quality System database and will be used to measure progress in meeting goals for reducing air toxics emissions and related health risks.\\nEPA’s most recent air trends report highlights that, between 1970 and 2017, the combined emissions of six key pollutants dropped by 73 percent, while the U.S. economy grew more than three times. A closer look at more recent progress shows that between 1990 and 2017, average concentrations of harmful air pollutants decreased significantly across our nation:\\nSulfur dioxide (1-hour) ↓ 88 percent\\nLead (3-month average) ↓80 percent\\nCarbon monoxide (8-hour) ↓ 77 percent\\nNitrogen dioxide (annual) ↓ 56 percent\\nFine Particulate Matter (24-hour) ↓ 40 percent\\nCoarse Particulate Matter (24-hour) ↓ 34 percent and\\nGround-level ozone (8-hour) ↓ 22 percent\\nEPA continues to work with states, local governments, tribes, and citizens – to further improve air quality for all Americans.\\nThe report includes interactive graphics that enable citizens, policymakers, and stakeholders to view and download detailed information by pollutant, geographic location, and year. Explore the report and download graphics and data here: https://gispub.epa.gov/air/trendsreport/2018/.\\nTo learn more about EPA Air Quality programs, visit: https://www3.epa.gov/airquality/</td>\n",
       "    </tr>\n",
       "    <tr>\n",
       "      <th>3</th>\n",
       "      <td>08/06/2018</td>\n",
       "      <td>Region 02</td>\n",
       "      <td>News Releases from Region 02\\nLa EPA y la Junta de Calidad Ambiental de Puerto Rico colaboran para controlar y monitorear la contaminación del aire en Puerto Rico\\n08/06/2018\\nContact Information: \\nBrenda Reyes (reyes.brenda@epa.gov)\\n(787) 977-5869\\nTayler Covington (covington.tayler@epa.gov)\\n(212) 637-3662\\n(Nueva York, N.Y., – 6 de agosto de 2018) La Agencia de Protección Ambiental (EPA) de los EE. UU. continúa colaborando con el gobierno de Puerto Rico para restablecer plenamente su red de monitoreo del aire tras el Huracán María. La red es un componente clave para asegurar la calidad del aire y la protección de la salud de la gente en Puerto Rico. La Agencia también acaba de adjudicar a la Junta de Calidad Ambiental (JCA) de Puerto Rico más de $22,000 en financiamiento adicional para apoyar sus programas de control y monitoreo de la contaminación del aire. El nuevo financiamiento lleva el total adjudicado por la EPA a la JCA de Puerto Rico más de $880,000. Ayudará a Puerto Rico en sus esfuerzos por cumplir con las normas nacionales de calidad del aire y en proteger la calidad del aire y la salud de la gente.\\n  “A medida que Puerto Rico se recupera de los huracanes, es críticamente importante que continuemos apoyando los esfuerzos del Estado Libre Asociado por proteger la calidad del aire de sus 3.3 millones de residentes”, señaló el Administrador Regional de la EPA Pete López. “La sólida asociación de la EPA con la gente de Puerto Rico es importante para mantener un ambiente sano. Sabemos que podemos lograr nuestros óptimos resultados ambientales al colaborar.”\\n  El laboratorio analítico de la JCA de Puerto Rico en San Juan se vio gravemente afectado por el Huracán María y necesitó obras importantes para dejarlo de nuevo en pleno funcionamiento a fin de poder analizar las muestras de aire. Además de las reparaciones de laboratorio, la EPA está asistiendo en reparar, revitalizar y reiniciar la red de monitoreo del aire del gobierno. El dióxido de nitrógeno, el dióxido de azufre, el plomo, las partículas finas en el aire, el ozono y el monóxido de carbono pueden perjudicar la salud de la gente. Por eso es de crucial importancia tener en funciones una red de monitoreo del aire que sea sofisticada.\\n  Para la red de monitoreo del aire, la EPA:\\nevaluó cada una de las 19 estaciones de monitoreo y determinó lo que se necesitaba para \\nreemplazar o reparar instrumental;\\ncoordinó con los fabricantes para asegurarse de que el nuevo equipo reúna los requisitos; \\nespera pronto la entrega del grupo final de equipos e instrumental;\\nreparó las estaciones y recintos de medición de la calidad del aire; \\nrealizará la capacitación para el inicio operativo de las estaciones; y\\nprevé tener todas las estaciones de monitoreo en funciones para el mes de octubre.\\nApoyo para el programa de control de la contaminación del aire – $22,063 en financiamiento nuevo; $880,271 en total para el año\\n  Esta subvención asistirá a la JCA en sus esfuerzos por implementar programas de control de la contaminación del aire en todo Puerto Rico. Estos programas incluyen lo siguiente: \\ndesarrollar e implementar reglamentaciones para fuentes estacionarias de contaminación\\ndel aire;\\nactualizar reglamentaciones para fuentes móviles de contaminación del aire, como\\nautomóviles, camionetas comerciales, aviones, embarcaciones náuticas y equipo pesado;\\nmejorar los datos de emisiones y modelación; y\\noperar una red de monitoreo. \\n  Muestreo y análisis del aire – Laboratorio de la JCA; abril 2018. \\nFotografía cortesía de la EPA de los EE. UU.\\nContexto: \\nLas tendencias del aire más recientes de la EPA informan aspectos destacados de que, entre 1970 y 2017, las emisiones combinadas de seis contaminantes clave bajaron en un 73%, mientras que la economía estadounidense creció más de tres veces. Un vistazo más de cerca al progreso más reciente muestra que entre 1990 y 2017, las concentraciones promedio de contaminantes nocivos del aire disminuyen considerablemente en todo el país:\\n  Dióxido de azufre (1 hora) ↓ 88%\\nPlomo (promedio de 3 meses) ↓80%\\nMonóxido de carbono (8 horas) ↓ 77%\\nDióxido de nitrógeno (anual) ↓ 56%\\nMateria en partículas finas (24 horas) ↓ 40% \\nMateria en partículas gruesas (24 horas) ↓ 34% y \\nOzono a nivel del suelo (8 horas) ↓ 22%\\nLa EPA continúa colaborando con los estados, los gobiernos locales, las tribus y los ciudadanos a fin de mejorar más la calidad del aire para todos los estadounidenses. \\n  El informe Our Nation’s Air de la EPA incluye gráficos interactivos que permiten a los ciudadanos, encargados de dictar políticas e interesados ver y descargar información detallada por contaminante, ubicación geográfica y año. Explore el informe y descargue los gráficos y datos aquí: https://gispub.epa.gov/air/trendsreport/2018/ \\n  Para ver más información sobre la contaminación en partículas y PM 2.5, visite https://www.epa.gov/pm-pollution. \\n  Siga a la Región 2 de la EPA en Twitter en http://twitter.com/eparegion2 y visite nuestra página en Facebook,\\nhttp://facebook.com/eparegion2.</td>\n",
       "    </tr>\n",
       "    <tr>\n",
       "      <th>4</th>\n",
       "      <td>08/06/2018</td>\n",
       "      <td>Region 02</td>\n",
       "      <td>News Releases from Region 02\\nEPA and Puerto Rico Environmental Quality Board Collaborate to Control and Monitor Air Pollution in Puerto Rico\\n08/06/2018\\nContact Information: \\nTayler Covington (covington.tayler@epa.gov)\\n212 637-3662\\n(New York, N.Y. – August 6, 2018) The U.S. Environmental Protection Agency (EPA) is continuing to work with the government of Puerto Rico to fully re-establish its air monitoring network in the aftermath of Hurricane Maria. The network is a key component to ensuring air quality and protection of people’s health in Puerto Rico. The Agency has also just awarded the Puerto Rico Environmental Quality Board (PREQB) more than $22,000 in additional funding to support its air pollution control and air monitoring programs. The new funding brings the total amount awarded by EPA to PREQB to more than $880,000. It will help Puerto Rico in its efforts to meet the national air quality standards and protect air quality and people’s health.\\n  “As Puerto Rico recovers from the hurricanes, it is critically important that we continue to support the Commonwealth’s efforts to protect air quality for its 3.3 million residents,” said EPA Regional Administrator Pete Lopez. “EPA’s strong partnership with the people of Puerto Rico is important to maintaining a healthy environment. We know we can achieve our best environmental results by working together.”\\n  Puerto Rico’s EQB Analytical Laboratory in San Juan was severely impacted by Hurricane Maria and required major work to make it fully operational so that it can analyze air samples. In addition to lab repairs, EPA is assisting in repairing, re-energizing and rebooting the government’s air monitoring network. Nitrogen dioxide, sulfur dioxide, lead, fine air particles, ozone, and carbon monoxide can adversely affect people’s health. Thus, it is critically important to have a reliable and state-of-the art air monitoring network in place.\\n  For the air monitoring network, EPA:\\n  • assessed each of the 19 air monitoring stations and determined what was needed to replace \\nor repair the instrument;\\n• coordinated with the manufacturers to ensure that new equipment meets requirements; \\n• expects delivery soon on the final group of equipment and instrumentation;\\n• repaired all air quality measurement stations and enclosures; \\n• will be conducting training for operational startup of the stations; and\\n• anticipates having all monitoring stations up and running by October.\\n  Air Pollution Control Program Support – $22,063 in new funding; $880,271 total for the year\\n  This grant will assist PREQB in its efforts to implement air pollution control programs throughout Puerto Rico. These programs include: \\n  • developing and implementing regulations for stationary sources of air pollution;\\n• updating regulations for mobile sources of air pollution, such as cars, commercial trucks, \\n   aircrafts, marine vessels, and heavy equipment;\\n• improving emissions data and modeling; and\\n• operating a monitoring network. \\n                                                                    Air Sampling and Analysis – PREQB Lab; April 2018.  Photo courtesy of U.S. EPA.\\nBackground:\\nEPA’s most recent air trends report highlights that, between 1970 and 2017, the combined emissions of six key pollutants dropped by 73 percent, while the U.S. economy grew more than three times. A closer look at more recent progress shows that between 1990 and 2017, average concentrations of harmful air pollutants decreased significantly across our nation:\\nSulfur dioxide (1-hour) ↓ 88 percent\\nLead (3-month average) ↓80 percent\\nCarbon monoxide (8-hour) ↓ 77 percent\\nNitrogen dioxide (annual) ↓ 56 percent\\nFine Particulate Matter (24-hour) ↓ 40 percent\\nCoarse Particulate Matter (24-hour) ↓ 34 percent and\\nGround-level ozone (8-hour) ↓ 22 percent\\nEPA continues to work with states, local governments, tribes, and citizens – to further improve air quality across for all Americans.\\nEPA’s Our Nation’s Air report includes interactive graphics that enable citizens, policymakers, and stakeholders to view and download detailed information by pollutant, geographic location, and year. Explore the report and download graphics and data here: https://gispub.epa.gov/air/trendsreport/2018/\\nFor more information about particulate pollution and PM 2.5, visit https://www.epa.gov/pm-pollution.\\nFollow EPA Region 2 on Twitter at http://twitter.com/eparegion2 and visit our Facebook page,\\nhttp://facebook.com/eparegion2.\\n18-057                                                                     # # #</td>\n",
       "    </tr>\n",
       "  </tbody>\n",
       "</table>\n",
       "</div>"
      ],
      "text/plain": [
       "         date        region  \\\n",
       "0  08/06/2018  Region 10      \n",
       "1  08/06/2018  Headquarters   \n",
       "2  08/06/2018  Region 04      \n",
       "3  08/06/2018  Region 02      \n",
       "4  08/06/2018  Region 02      \n",
       "\n",
       "                                                                                                                                                                                                                                                                                                                                                                                                                                                                                                                                                                                                                                                                                                                                                                                                                                                                                                                                                                                                                                                                                                                                                                                                                                                                                                                                                                                                                                                                                                                                                                                                                                                                                                                                                                                                                                                                                                                                                                                                                                                                                                                                                                                                                                                                                                                                                                                                                                                                                                                                                                                                                                                                                                                                                                                                                                                                                                                                                                                                                                                                                                                                                                                                                                                                                                                                                                                                                                                                                                                                                                                                                                                                                                                                                                                                                                                                                                                                                                                                                                                                                                                                                                                                                                                                                                                                                                                                                                                                                                                                                                                                                                                                                                                                                                                                                                                                                                                                                                                                                                                                                                                                                                                                                                                                                                                                                                                                                                                                                                                                                                                                                                                                                                                                                                                                                                                                                                                                                                                                                                                                                                                                                                                                                                                                                                                                                                                                                                                                                                                                                                                                                                                                                                                                     text  \n",
       "0  News Releases from Region 10\\nEPA removes Frontier Hard Chrome from national Superfund site list\\n08/06/2018\\nContact Information: \\nMark MacIntyre (macintyre.mark@epa.gov)\\n206-553-7302\\nThe U.S. Environmental Protection Agency has officially deleted the Frontier Hard Chrome Superfund site in the city of Vancouver, Washington from the agency’s National Priorities List.\\nEPA and the State of Washington have concluded that all appropriate actions under the Comprehensive Environmental Response, Compensation and Liability Act (the Nation’s Superfund law) have been implemented and that no further cleanup is required. Sites can only be deleted from the NPL after all remedies are successfully implemented and EPA and the State determine that all cleanup actions are complete and cleanup goals have been met. \\nThe 30-day public comment period on the proposed deletion ended June 20, 2018. After adding Frontier Hard Chrome to the NPL in 1983, the site was removed effective today, Monday, Aug 6, with the publication of the official notice in the Federal Register.\\nBackground\\nThe site is located immediately north of the Columbia River and east of Interstate 5. Frontier Hard Chrome performed chrome plating operations at the site from 1958 to 1983. Facility activities included discharging process wastewater containing hexavalent chromium directly to an on-site dry well. Site operations and waste disposal practices profoundly contaminated soil and groundwater with hexavalent chromium.\\nEPA placed the site on the Superfund Program’s National Priorities List in 1983. Excavation and treatment of contaminated soils and groundwater – largely Superfund funded - concluded in 2003.Approximately $14.5 million has been spent cleaning up the site.\\nIn 2004, EPA negotiated an agreement with Boulevard Investments and JH Kelly that allowed commercial re-development to move forward at the site. In 2016, following attainment of groundwater cleanup levels, monitoring wells were removed from the site, allowing the full site to be re-developed.  This spring, JH Kelly opened a 65,000-sq. ft., state-of-the-art, pipe fabrication facility and a completely remodeled office at the site.\\n#  #  #\\nFor more about site history and cleanup actions at Frontier Hard Chrome, please visit:  https://go.usa.gov/xUwD2\\nFor the Federal Register Notice: https://www.federalregister.gov/d/2018-16775                                                                                                                                                                                                                                                                                                                                                                                                                                                                                                                                                                                                                                                                                                                                                                                                                                                                                                                                                                                                                                                                                                                                                                                                                                                                                                                                                                                                                                                                                                                                                                                                                                                                                                                                                                                                                                                                                                                                                                                                                                                                                                                                                                                                                                                                                                                                                                                                                                                                                                                                                                                                                                                                                                                                                                                                                                                                                                                                                                                                                                                                                                                                                                                                                                                                                                                                                                                                                                                                                                                                                                                                                                                                                                                                                                                                                                                                                                                                                                                                                                                                                                                                                                                                                                                     \n",
       "1  News Releases from Headquarters›Land and Emergency Management (OLEM)\\nLove Canal Revealed a National Problem; Superfund Provided a Solution\\nEPA’s Superfund Task Force Continues to Ensure Cleanups Remain a Top Priority\\n08/06/2018\\nContact Information: \\nEPA Press Office (press@epa.gov)\\nWASHINGTON  — Today, the U.S. Environmental Protection Agency (EPA) commemorates the 40th anniversary of Love Canal, a tragedy that spurred a law to clean up hazardous waste and give voice to communities across the country. The federal Superfund law gave EPA the power to ensure that parties responsible for contamination pay for or perform the cleanup and, if there was no viable responsible party, to use public funds. Forty years after the first Presidential Emergency Declaration was signed, the cleanup at the Love Canal Superfund site remains protective of people’s health and the environment, and the Superfund program continues to provide environmental, public health, and economic benefits to communities nationwide.\\n\\n“The 40th anniversary of Love Canal is a reminder of both the devastating consequences of environmental disasters and the power of concerned citizens to spur change nationwide,” said Acting Administrator Andrew Wheeler. “The Superfund program is a top priority at EPA, and we are making tremendous progress cleaning up contaminated sites, protecting public health, and ensuring a tragedy like Love Canal never happens again.”\\n\\n“The Love Canal tragedy shook the Niagara Falls community, and it is in large part due to the hard work of community members to demand action, that brought about the passage of the then unprecedented Superfund law.” said EPA Regional Administrator Pete Lopez. “None of us want to see another community go through what this community has endured, and a strong Superfund program is an essential part of safeguarding the public.”\\n\\nIn August 1978, President Jimmy Carter issued the first of two emergency declarations at Love Canal after learning of reports from the community of strange odors and residues, basements flooded with contaminated groundwater, and health issues, including miscarriages and birth defects. Less than two years later, on December 11, 1980, Congress enacted the Comprehensive Environmental Response, Compensation, and Liability Act (CERCLA), which would become known as Superfund. Today, the Superfund program continues to make a visible and lasting difference in communities cleaning up the nation’s worst hazardous waste sites, tackling threats to public health and our natural environment, supporting local economies and enhancing quality of life, preventing future releases of hazardous substances, and leading to new advances in science and technology.\\n\\nUnder the Trump Administration, the Superfund program has reemerged as a priority to fulfill and strengthen EPA’s core mission of protecting human health and the environment. On May 22, 2017, EPA established the Superfund Task Force to provide recommendations on how EPA could streamline and improve the Superfund program. Just two months later, on July 25, 2017, EPA issued the Superfund Task Force Report, which included 42 recommendations in five goal areas:  \\nExpediting Cleanup and Remediation; \\nRe-Invigorating Responsible Party Cleanup and Reuse; \\nEncouraging Private Investment; \\nPromoting Redevelopment and Community Revitalization; and \\nEngaging Partners and Stakeholders. \\nIn the first year of Superfund Task Force, EPA made significant progress in carrying out the report’s recommendations and stands to complete all 42 recommendations by the end of 2019. These achievements will provide certainty to communities, state partners, and developers that the nation’s most hazardous sites will be cleaned up as quickly and safely as possible.\\nBackground:\\nLove Canal was originally intended to be a hydroelectric power plant. In the 1890s, William T. Love began excavating the original canal but later abandoned the project. From 1942 to approximately 1953, Hooker Chemicals & Plastic Corp. (now Occidental Chemical Company) used the area as a landfill, disposing of an estimated 21,000 tons of chemicals and hazardous waste. Community residents first began reporting odors and residues at the Love Canal site in the 1960s. In the 1970s, groundwater contaminated with more than 80 industrial chemicals – including heavy metals, pesticides, and dioxin – had migrated through sewers and creeks and began seeping into people’s properties. Several presidential emergency declarations were issued and approximately 950 families were evacuated from a 10 square-block area surrounding the Love Canal landfill. \\n\\nAfter decades of extensive cleanup work by EPA and New York State, Love Canal was deleted from EPA’s National Priorities List of Superfund sites in 2004, but the Agency continues to actively monitor the site. Because groundwater is the pathway through which contamination could move, more than 100 groundwater monitoring on-site and off-site wells gather data quarterly. The data, which is evaluated by EPA and New York State, continues to show that the leachate collection system, the barrier drain, the landfill cap, and the monitoring wells are all intact and working properly. EPA also conducts comprehensive reviews of all data and information every five years to ensure that the remedy remains fully protective. These reviews will be conducted into perpetuity.\\n\\nAfter an extensive habitability study conducted by health and environmental experts was completed, some areas of the site were reopened and new homeowners have moved into the habitable areas of the site.  More than 260 formerly evacuated homes in the affected area were rehabilitated and sold to new residents, creating a viable new neighborhood. For information and images, visit EPA’s Love Canal website. \\n\\nOn the one-year anniversary of the EPA’s Superfund Task Force Report, EPA announced significant progress in carrying out the report’s recommendations.  These achievements will provide certainty to communities, state partners, and developers that the nation’s most hazardous sites will be cleaned up as quickly and safely as possible.\\n\\nEPA’s new “Superfund Task Force Recommendations 2018 Update” is available at: https://www.epa.gov/superfund/superfund-task-force-recommendations-2018-update\\nListen to EPA Region 2 Administrator Pete Lopez talk about the 40th anniversary of Love Canal on our podcast: https://www.epa.gov/podcasts\\n   \n",
       "2  News Releases from Region 04\\nEPA Awards $233,601 to Pinellas and Hillsborough Counties to Improve Air Quality\\n08/06/2018\\nContact Information: \\nDawn Harris-Young ( harris-young.dawn@epa.gov)\\n(404) 562-8421 (Direct), (404) 562-8400 (Main)\\nATLANTA (August 6, 2018) – The U.S. Environmental Protection Agency (EPA) awarded a $98,300 grant to the Pinellas County, Fla. Board of County Commissioners and a $135,301 grant to the Hillsborough County Environmental Protection Commission to conduct air quality monitoring. The Toxics Characterization National Air Toxics Trends Site grants will be used to conduct air toxics monitoring to measure volatile organic compounds, semi-volatiles, carbonyls, and metals in Pinellas and Hillsborough County.\\n“By continuing monitoring efforts under the National Air Toxics Trends Station program, we can make significant investments and progress towards improving Florida’s air quality,” said Region 4 Administrator Trey Glenn. “These grants will be an important continuation of the environmental outcomes under the Clean Air Act.”\\nThis project represents a continuation of a national ongoing effort to characterize air toxics and assess trends in ambient levels by conducting monitoring in urban and rural areas. Data resulting from the project will be submitted into the Air Quality System database and will be used to measure progress in meeting goals for reducing air toxics emissions and related health risks.\\nEPA’s most recent air trends report highlights that, between 1970 and 2017, the combined emissions of six key pollutants dropped by 73 percent, while the U.S. economy grew more than three times. A closer look at more recent progress shows that between 1990 and 2017, average concentrations of harmful air pollutants decreased significantly across our nation:\\nSulfur dioxide (1-hour) ↓ 88 percent\\nLead (3-month average) ↓80 percent\\nCarbon monoxide (8-hour) ↓ 77 percent\\nNitrogen dioxide (annual) ↓ 56 percent\\nFine Particulate Matter (24-hour) ↓ 40 percent\\nCoarse Particulate Matter (24-hour) ↓ 34 percent and\\nGround-level ozone (8-hour) ↓ 22 percent\\nEPA continues to work with states, local governments, tribes, and citizens – to further improve air quality for all Americans.\\nThe report includes interactive graphics that enable citizens, policymakers, and stakeholders to view and download detailed information by pollutant, geographic location, and year. Explore the report and download graphics and data here: https://gispub.epa.gov/air/trendsreport/2018/.\\nTo learn more about EPA Air Quality programs, visit: https://www3.epa.gov/airquality/                                                                                                                                                                                                                                                                                                                                                                                                                                                                                                                                                                                                                                                                                                                                                                                                                                                                                                                                                                                                                                                                                                                                                                                                                                                                                                                                                                                                                                                                                                                                                                                                                                                                                                                                                                                                                                                                                                                                                                                                                                                                                                                                                                                                                                                                                                                                                                                                                                                                                                                                                                                                                                                                                                                                                                                                                                                                                                                                                                                                                                                                                                                                                                                                                                                                                                                                                                                                                                                                                                                                                                                                                                                                                                                                                                                                                                                                                                                                                                                                                      \n",
       "3  News Releases from Region 02\\nLa EPA y la Junta de Calidad Ambiental de Puerto Rico colaboran para controlar y monitorear la contaminación del aire en Puerto Rico\\n08/06/2018\\nContact Information: \\nBrenda Reyes (reyes.brenda@epa.gov)\\n(787) 977-5869\\nTayler Covington (covington.tayler@epa.gov)\\n(212) 637-3662\\n(Nueva York, N.Y., – 6 de agosto de 2018) La Agencia de Protección Ambiental (EPA) de los EE. UU. continúa colaborando con el gobierno de Puerto Rico para restablecer plenamente su red de monitoreo del aire tras el Huracán María. La red es un componente clave para asegurar la calidad del aire y la protección de la salud de la gente en Puerto Rico. La Agencia también acaba de adjudicar a la Junta de Calidad Ambiental (JCA) de Puerto Rico más de $22,000 en financiamiento adicional para apoyar sus programas de control y monitoreo de la contaminación del aire. El nuevo financiamiento lleva el total adjudicado por la EPA a la JCA de Puerto Rico más de $880,000. Ayudará a Puerto Rico en sus esfuerzos por cumplir con las normas nacionales de calidad del aire y en proteger la calidad del aire y la salud de la gente.\\n  “A medida que Puerto Rico se recupera de los huracanes, es críticamente importante que continuemos apoyando los esfuerzos del Estado Libre Asociado por proteger la calidad del aire de sus 3.3 millones de residentes”, señaló el Administrador Regional de la EPA Pete López. “La sólida asociación de la EPA con la gente de Puerto Rico es importante para mantener un ambiente sano. Sabemos que podemos lograr nuestros óptimos resultados ambientales al colaborar.”\\n  El laboratorio analítico de la JCA de Puerto Rico en San Juan se vio gravemente afectado por el Huracán María y necesitó obras importantes para dejarlo de nuevo en pleno funcionamiento a fin de poder analizar las muestras de aire. Además de las reparaciones de laboratorio, la EPA está asistiendo en reparar, revitalizar y reiniciar la red de monitoreo del aire del gobierno. El dióxido de nitrógeno, el dióxido de azufre, el plomo, las partículas finas en el aire, el ozono y el monóxido de carbono pueden perjudicar la salud de la gente. Por eso es de crucial importancia tener en funciones una red de monitoreo del aire que sea sofisticada.\\n  Para la red de monitoreo del aire, la EPA:\\nevaluó cada una de las 19 estaciones de monitoreo y determinó lo que se necesitaba para \\nreemplazar o reparar instrumental;\\ncoordinó con los fabricantes para asegurarse de que el nuevo equipo reúna los requisitos; \\nespera pronto la entrega del grupo final de equipos e instrumental;\\nreparó las estaciones y recintos de medición de la calidad del aire; \\nrealizará la capacitación para el inicio operativo de las estaciones; y\\nprevé tener todas las estaciones de monitoreo en funciones para el mes de octubre.\\nApoyo para el programa de control de la contaminación del aire – $22,063 en financiamiento nuevo; $880,271 en total para el año\\n  Esta subvención asistirá a la JCA en sus esfuerzos por implementar programas de control de la contaminación del aire en todo Puerto Rico. Estos programas incluyen lo siguiente: \\ndesarrollar e implementar reglamentaciones para fuentes estacionarias de contaminación\\ndel aire;\\nactualizar reglamentaciones para fuentes móviles de contaminación del aire, como\\nautomóviles, camionetas comerciales, aviones, embarcaciones náuticas y equipo pesado;\\nmejorar los datos de emisiones y modelación; y\\noperar una red de monitoreo. \\n  Muestreo y análisis del aire – Laboratorio de la JCA; abril 2018. \\nFotografía cortesía de la EPA de los EE. UU.\\nContexto: \\nLas tendencias del aire más recientes de la EPA informan aspectos destacados de que, entre 1970 y 2017, las emisiones combinadas de seis contaminantes clave bajaron en un 73%, mientras que la economía estadounidense creció más de tres veces. Un vistazo más de cerca al progreso más reciente muestra que entre 1990 y 2017, las concentraciones promedio de contaminantes nocivos del aire disminuyen considerablemente en todo el país:\\n  Dióxido de azufre (1 hora) ↓ 88%\\nPlomo (promedio de 3 meses) ↓80%\\nMonóxido de carbono (8 horas) ↓ 77%\\nDióxido de nitrógeno (anual) ↓ 56%\\nMateria en partículas finas (24 horas) ↓ 40% \\nMateria en partículas gruesas (24 horas) ↓ 34% y \\nOzono a nivel del suelo (8 horas) ↓ 22%\\nLa EPA continúa colaborando con los estados, los gobiernos locales, las tribus y los ciudadanos a fin de mejorar más la calidad del aire para todos los estadounidenses. \\n  El informe Our Nation’s Air de la EPA incluye gráficos interactivos que permiten a los ciudadanos, encargados de dictar políticas e interesados ver y descargar información detallada por contaminante, ubicación geográfica y año. Explore el informe y descargue los gráficos y datos aquí: https://gispub.epa.gov/air/trendsreport/2018/ \\n  Para ver más información sobre la contaminación en partículas y PM 2.5, visite https://www.epa.gov/pm-pollution. \\n  Siga a la Región 2 de la EPA en Twitter en http://twitter.com/eparegion2 y visite nuestra página en Facebook,\\nhttp://facebook.com/eparegion2.                                                                                                                                                                                                                                                                                                                                                                                                                                                                                                                                                                                                                                                                                                                                                                                                                                                                                                                                                                                                                                                                                                                                                                                                                                                                                                                                                                                                                                                        \n",
       "4  News Releases from Region 02\\nEPA and Puerto Rico Environmental Quality Board Collaborate to Control and Monitor Air Pollution in Puerto Rico\\n08/06/2018\\nContact Information: \\nTayler Covington (covington.tayler@epa.gov)\\n212 637-3662\\n(New York, N.Y. – August 6, 2018) The U.S. Environmental Protection Agency (EPA) is continuing to work with the government of Puerto Rico to fully re-establish its air monitoring network in the aftermath of Hurricane Maria. The network is a key component to ensuring air quality and protection of people’s health in Puerto Rico. The Agency has also just awarded the Puerto Rico Environmental Quality Board (PREQB) more than $22,000 in additional funding to support its air pollution control and air monitoring programs. The new funding brings the total amount awarded by EPA to PREQB to more than $880,000. It will help Puerto Rico in its efforts to meet the national air quality standards and protect air quality and people’s health.\\n  “As Puerto Rico recovers from the hurricanes, it is critically important that we continue to support the Commonwealth’s efforts to protect air quality for its 3.3 million residents,” said EPA Regional Administrator Pete Lopez. “EPA’s strong partnership with the people of Puerto Rico is important to maintaining a healthy environment. We know we can achieve our best environmental results by working together.”\\n  Puerto Rico’s EQB Analytical Laboratory in San Juan was severely impacted by Hurricane Maria and required major work to make it fully operational so that it can analyze air samples. In addition to lab repairs, EPA is assisting in repairing, re-energizing and rebooting the government’s air monitoring network. Nitrogen dioxide, sulfur dioxide, lead, fine air particles, ozone, and carbon monoxide can adversely affect people’s health. Thus, it is critically important to have a reliable and state-of-the art air monitoring network in place.\\n  For the air monitoring network, EPA:\\n  • assessed each of the 19 air monitoring stations and determined what was needed to replace \\nor repair the instrument;\\n• coordinated with the manufacturers to ensure that new equipment meets requirements; \\n• expects delivery soon on the final group of equipment and instrumentation;\\n• repaired all air quality measurement stations and enclosures; \\n• will be conducting training for operational startup of the stations; and\\n• anticipates having all monitoring stations up and running by October.\\n  Air Pollution Control Program Support – $22,063 in new funding; $880,271 total for the year\\n  This grant will assist PREQB in its efforts to implement air pollution control programs throughout Puerto Rico. These programs include: \\n  • developing and implementing regulations for stationary sources of air pollution;\\n• updating regulations for mobile sources of air pollution, such as cars, commercial trucks, \\n   aircrafts, marine vessels, and heavy equipment;\\n• improving emissions data and modeling; and\\n• operating a monitoring network. \\n                                                                    Air Sampling and Analysis – PREQB Lab; April 2018.  Photo courtesy of U.S. EPA.\\nBackground:\\nEPA’s most recent air trends report highlights that, between 1970 and 2017, the combined emissions of six key pollutants dropped by 73 percent, while the U.S. economy grew more than three times. A closer look at more recent progress shows that between 1990 and 2017, average concentrations of harmful air pollutants decreased significantly across our nation:\\nSulfur dioxide (1-hour) ↓ 88 percent\\nLead (3-month average) ↓80 percent\\nCarbon monoxide (8-hour) ↓ 77 percent\\nNitrogen dioxide (annual) ↓ 56 percent\\nFine Particulate Matter (24-hour) ↓ 40 percent\\nCoarse Particulate Matter (24-hour) ↓ 34 percent and\\nGround-level ozone (8-hour) ↓ 22 percent\\nEPA continues to work with states, local governments, tribes, and citizens – to further improve air quality across for all Americans.\\nEPA’s Our Nation’s Air report includes interactive graphics that enable citizens, policymakers, and stakeholders to view and download detailed information by pollutant, geographic location, and year. Explore the report and download graphics and data here: https://gispub.epa.gov/air/trendsreport/2018/\\nFor more information about particulate pollution and PM 2.5, visit https://www.epa.gov/pm-pollution.\\nFollow EPA Region 2 on Twitter at http://twitter.com/eparegion2 and visit our Facebook page,\\nhttp://facebook.com/eparegion2.\\n18-057                                                                     # # #                                                                                                                                                                                                                                                                                                                                                                                                                                                                                                                                                                                                                                                                                                                                                                                                                                                                                                                                                                                                                                                                                                                                                                                                                                                                                                                                                                                                                                                                                                                                                                                                                                                                                                                                                                                                                                                                                                                                                         "
      ]
     },
     "execution_count": 58,
     "metadata": {},
     "output_type": "execute_result"
    }
   ],
   "source": [
    "new_df"
   ]
  },
  {
   "cell_type": "code",
   "execution_count": 59,
   "metadata": {},
   "outputs": [],
   "source": [
    "all_df = df.apply(get_releases, axis=1).join(df)"
   ]
  },
  {
   "cell_type": "code",
   "execution_count": 60,
   "metadata": {},
   "outputs": [
    {
     "data": {
      "text/plain": [
       "(2069, 5)"
      ]
     },
     "execution_count": 60,
     "metadata": {},
     "output_type": "execute_result"
    }
   ],
   "source": [
    "all_df.shape"
   ]
  },
  {
   "cell_type": "code",
   "execution_count": 62,
   "metadata": {},
   "outputs": [
    {
     "data": {
      "text/html": [
       "<div>\n",
       "<style scoped>\n",
       "    .dataframe tbody tr th:only-of-type {\n",
       "        vertical-align: middle;\n",
       "    }\n",
       "\n",
       "    .dataframe tbody tr th {\n",
       "        vertical-align: top;\n",
       "    }\n",
       "\n",
       "    .dataframe thead th {\n",
       "        text-align: right;\n",
       "    }\n",
       "</style>\n",
       "<table border=\"1\" class=\"dataframe\">\n",
       "  <thead>\n",
       "    <tr style=\"text-align: right;\">\n",
       "      <th></th>\n",
       "      <th>date</th>\n",
       "      <th>region</th>\n",
       "      <th>text</th>\n",
       "      <th>name</th>\n",
       "      <th>url</th>\n",
       "    </tr>\n",
       "  </thead>\n",
       "  <tbody>\n",
       "    <tr>\n",
       "      <th>2059</th>\n",
       "      <td>02/08/2017</td>\n",
       "      <td>Region 10</td>\n",
       "      <td>News Releases from Region 10\\nEPA settlement with Oregon landowner results in wetland restoration in Warrenton\\n02/08/2017\\nContact Information: \\nMark A. MacIntyre (macintyre.mark@epa.gov)\\n206-553-7302\\n(Seattle) - This spring, Martin Nygaard and Nygaard Land, LLC, will embark on a major wetland restoration effort, covering 72 acres of a formerly wooded property owned and cleared by Mr. Nygaard, east of Airport Lane and west of Highway 101 in Warrenton, Oregon. Work was originally scheduled for last fall, but heavy Autumn rains pushed the restoration activities back until spring. Work at the site will involve heavy equipment working in the fragile wetland habitat to remove culverts and other structures, while also restoring filled tidal channels.\\nThe project is part of a federal Clean Water Act settlement between the U.S. Environmental Protection Agency, Mr. Nygaard and Nygaard Land, LLC, to resolve clean water act discharge violations on the property. The alleged violations include discharging dredged or fill material into wetlands and other waters of the United States without an Army Corps of Engineers Clean Water Act Section 404 permit.\\nWhile a large portion of the site will be left to recover naturally, active re-vegetation will occur on just over 2 acres, including restoring an additional ½ acre of tidal channels that run through the site. Along with agreeing to perform the restoration project and doing the streambank repairs, Mr. Nygaard will pay a $62,924 penalty.\\nThe site’s wetlands and tidal channels are connected to the Lewis and Clark River, which flows into Youngs Bay, then into the Columbia River, and ultimately into the Pacific Ocean. The river is home to bottom-feeding sturgeon, which is a popular sport fish in the area. It is also home to an extensive salmon repopulation program. The river also supports runs of wild steelhead and cutthroat trout. Each of these species depend on cold, clean, oxygen-rich water to survive and use tidal channels and wetlands for feeding and rearing their young.\\nThis is not the first time Mr. Nygaard and his companies have experienced regulatory transactions with both state (Oregon Department of Lands) and federal (Army Corps of Engineers) authorities.  The state and Corps elected to refer this case to the EPA based on multiple past violations by the Nygaard family’s companies, including wetland fills near their stockyard in Hammond (OR) in 2009 and on a Seaside (OR) property in 2007.\\nWetlands are important features in the Oregon landscape that provide many benefits for people, fish, and wildlife. These include: Protecting and improving water quality, providing fish and wildlife habitat, storing floodwaters, and maintaining surface water flow during hot, dry summers.\\n#  #  #</td>\n",
       "      <td>EPA settlement with Oregon landowner results in wetland restoration in Warrenton</td>\n",
       "      <td>https://www.epa.gov/newsreleases/epa-settlement-oregon-landowner-results-wetland-restoration-warrenton</td>\n",
       "    </tr>\n",
       "    <tr>\n",
       "      <th>2060</th>\n",
       "      <td>02/07/2017</td>\n",
       "      <td>Region 01</td>\n",
       "      <td>News Releases from Region 01\\nEPA Continues to Ensure Public Health Protection at Superfund Sites\\nEPA Completes Reviews at Nine Superfund Sites in 2016\\n02/07/2017\\nContact Information: \\nEmily Bender (bender.emily@epa.gov)\\n617-918-1037\\nBOSTON - EPA has completed comprehensive reviews of site cleanups at nine National Priorities List Sites (Superfund Sites), including four Federal Facilities, across New England by performing required Five-Year Reviews of each site. The Superfund program, a federal program established by Congress in 1980, investigates and cleans up the most complex, uncontrolled or abandoned hazardous waste sites in the country and endeavors to return them to productive use.\\nThroughout the superfund process of designing and constructing a cleanup remedy for a hazardous waste site, EPA's first goal is to make sure the remedy will be protective of public health and the environment. Then, once a remedy or portion of a remedy has begun, EPA continues to ensure protectiveness by requiring comprehensive reviews of the cleanup every five years. It is important for EPA to regularly check on site progress to ensure the remedy is working properly at the site. In addition to extensive review of the remedy itself, its engineering, and its overall functionality, EPA may also look at outside variables that could potentially affect the performance of the remedy, such as redevelopment, impacts from storms or flooding, and overall wear and tear. Five-year review evaluations identify any issues and, if called for, recommend action(s) necessary to address them.\\nEPA is actively involved in Superfund studies and cleanups at 123 sites across New England. There are many phases of the Superfund cleanup process including planning for future use and redevelopment at sites and post cleanup monitoring of sites. EPA must ensure the remedy is protective of public health and the environment and any redevelopment will uphold the protectiveness of the remedy into the future. Last year, EPA reviewed remedies at sites like South Weymouth Naval Air Station where EPA continues to work with the Navy, the State, and a developer to move forward on a master plan to construct a very large mixed use community to put the site into productive reuse. The master plan currently includes over a thousand homes, millions of square feet for commercial operations, athletic fields and other facilities at the site.\\nEPA also reviewed the Materials Technology Lab (U.S. Army) in Watertown, Mass, where 30 acres of the former hazardous waste site are now a mixed use complex including apartments, retail stores, restaurants, offices, and various other businesses. Currently, EPA is working with the Army, the State, and a developer on further redevelopment plans for another portion of the Materials Technology Lab Site which includes upgraded utilities, a parking garage, several new buildings.\\nAt the Eastern Surplus Company Superfund Site in Meddybemps, Maine, EPA found Native American artifacts and subsequently determined the northern part of the site was eligible for the National Register of Historic Places. This area, formerly an army surplus and salvage retailer, and now named N'tolonapemk (\"Our Ancestor's Place\") by the Passamaquoddy Tribe, is now a major archaeological research site. In 2012, parties constructed a commemorative patio and pathway for the area.\\nThe complete list of New England Superfund Sites where EPA has completed Five Year Reviews in 2016 are below. Please note, the Web link provided after each site provides detailed information on site status, redevelopment efforts, past assessment and cleanup activity as well as the Five-Year Review report. The web link also provides contact information for the EPA Project Manager and Community Involvement Coordinator at each site. Community members and local officials are invited to contact EPA with any comments or concerns about a Superfund Site or the conclusions in the recent Five Year Review.\\nConnecticut\\nDurham Meadows, Durham, CT (www.epa.gov/superfund/durham)\\nNew London Submarine Base, New London, CT (www.epa.gov/superfund/newlondon)\\nMaine\\nCallahan Mine, Brooksville, ME (www.epa.gov/superfund/callahan)\\nEastern Surplus, Meddybemps, ME (www.epa.gov/superfund/eastern)\\nMassachusetts\\nFort Devens-Sudbury Training Annex, Sudbury, MA (www.epa.gov/superfund/sudburyannex)\\nMaterials Technology Lab, Watertown, MA (www.epa.gov/superfund/amtl)\\nSouth Weymouth Naval Air Station, OU10, U.S. Coast Guard/Buoy Depot (www.epa.gov/superfund/sweymouth)\\nNew Hampshire\\nSavage Municipal Landfill, Milford, NH (www.epa.gov/superfund/savage)\\nVermont\\nOld Springfield Landfill (addendum review), Springfield, VT (www.epa.gov/superfund/oldspringfield)\\nPine Street Canal Superfund Site, Burlington, VT (www.epa.gov/superfund/pinestreet)</td>\n",
       "      <td>EPA Continues to Ensure Public Health Protection at Superfund Sites</td>\n",
       "      <td>https://www.epa.gov/newsreleases/epa-continues-ensure-public-health-protection-superfund-sites</td>\n",
       "    </tr>\n",
       "    <tr>\n",
       "      <th>2061</th>\n",
       "      <td>02/06/2017</td>\n",
       "      <td>Region 01</td>\n",
       "      <td>News Releases from Region 01\\nJaffrey, N.H. Facility to Upgrade its Wastewater Treatment Systems Under Clean Water Act Settlement\\n02/06/2017\\nContact Information: \\nDavid Deegan (deegan.dave@epa.gov)\\n617-918-1017\\nBOSTON - Under the terms of a Consent Decree lodged in federal court, EMD Millipore Corp. of Jaffrey, N.H., will upgrade its on-site wastewater treatment system to comply with the terms of the company's industrial wastewater discharge permit and prevent pretreatment violations of the federal Clean Water Act (CWA). The company will also pay a civil penalty of $385,000 for alleged violations of the CWA.\\nEMD Millipore operates an industrial manufacturing facility in Jaffrey, N.H. that produces water filtration devices.  The facility operates an on-site wastewater treatment system that introduces wastewaters into the Jaffrey publicly owned treatment works (POTW) through a dedicated pipe.  The facility's wastewaters contain pollutants including ammonia, total suspended solids, hydrogen ion concentration (pH), and oxygen demanding pollutants such as biochemical oxygen demand.  The settlement resolves numerous allegations of Clean Water Act pretreatment violations, including pass through and interference violations at the Jaffrey POTW.\\nThe Consent Decree requires EMD Millipore to upgrade the facility's wastewater treatment system to achieve compliance with the federal pretreatment regulations and the facility's industrial wastewater discharge permit.  The company must also comply with certain interim wastewater management requirements.  Finally, EMD Millipore must provide annual training to individuals at the facility who are responsible for CWA compliance and perform wastewater sampling and analysis, and submit quarterly reports to EPA, to ensure compliance with the Consent Decree and the CWA.\\nThe Consent Decree is the result of a federal enforcement action brought by the U.S. Department of Justice, on behalf of the U.S. Environmental Protection Agency.\\nMore information:\\n\\nThe Consent Decree, lodged in the U.S. District Court for the District of New Hampshire, is subject to a 30-day public comment period and approval by the federal court.  Once it is published in the Federal Register, a copy of the consent decree will be available on the Justice Department Web site at http://www.usdoj.gov/enrd/Consent_Decrees.html.</td>\n",
       "      <td>Jaffrey, N.H. Facility to Upgrade its Wastewater Treatment Systems Under Clean Water Act Settlement</td>\n",
       "      <td>https://www.epa.gov/newsreleases/jaffrey-nh-facility-upgrade-its-wastewater-treatment-systems-under-clean-water-act</td>\n",
       "    </tr>\n",
       "    <tr>\n",
       "      <th>2062</th>\n",
       "      <td>02/06/2017</td>\n",
       "      <td>Region 09</td>\n",
       "      <td>News Releases from Region 09\\nU.S. EPA commits Sanger, Calif., poultry processor to protect workers, local community from risk of chemical releases\\n02/06/2017\\nContact Information: \\nMichele Huitric (huitric.michele@epa.gov)\\n415-972-3165\\nSAN FRANCISCO – Today, the U.S. Environmental Protection Agency announced a settlement with Pitman Farms, Inc., for violations of federal chemical safety and reporting requirements following three ammonia releases at its poultry processing facility located in Sanger, Calif.  Pitman Farms, which sells poultry from its Sanger facility under the brand name Mary’s Free Range Chicken, will pay a $242,980 civil penalty and perform two local environmental projects valued at nearly $200,000.\\nEPA’s action is a result of its November 2014 inspection that uncovered violations of the federal Clean Air Act’s Risk Management Program, designed to prevent the accidental release of extremely hazardous substances to the air. The inspection was prompted by a release of 2,700 pounds of anhydrous ammonia at the facility in September 2014 that led to the hospitalization of 15 employees. Additional smaller releases of anhydrous ammonia occurred in May 2016 and July 2016. Each of those incidents resulted in the medical treatment of 4 employees.\\n“Companies using hazardous chemicals must take steps to ensure the safety of nearby residents and their workers,” said Alexis Strauss, EPA’s Acting Regional Administrator for the Pacific Southwest. “We appreciate Pitman Farms’ recent efforts to install new refrigeration equipment to reduce the chance of ammonia releases.”\\nDuring its inspection, EPA found that Pitman Farms violated the Risk Management Program regulations by failing to:\\nProvide training to employees to assure they understand and adhere to the operating procedures.\\nEnsure that employees were properly fitted for personal protective equipment.\\nPerform annual inspections and tests of the ammonia refrigeration system, and correct deficiencies in equipment in a timely manner.\\nPromptly address all recommendations made in its Incident Investigation Report after the September 2014 release of anhydrous ammonia at the facility. \\nDocument that all ammonia process equipment complied with industry standards, such as labeling ammonia refrigeration system pipes.\\nEPA inspectors also found that the company failed to immediately notify the National Response Center and the California Office of Emergency Services as soon as it knew of the releases in September 2014 and July 2016, in violation of the federal Comprehensive Environmental Response, Compensation, and Liability Act and Emergency Planning and Community Right-to-Know Act.\\nUnder the settlement, Pitman Farms will spend $194,950 on environmental projects to support emergency planning and preparedness efforts in the Sanger area and larger Fresno County communities. The company will purchase and donate emergency response equipment to the Fresno County Hazmat Emergency Response Team and the City of Fresno Fire Department, to assist them in responding to hazardous materials incidents. In addition, the company will upgrade its facility by installing centralized safety controls to provide rapid detection and control of anhydrous ammonia releases. Pitman Farms has also installed a new state-of-the-art ammonia refrigeration system and filed a revised risk management plan for the new system, which became operational in August 2016.\\nThe Clean Air Act’s Risk Management Program requires facility plans that include hazard assessments detailing the potential effects of an accidental release and a prevention program that includes safety precautions and maintenance, monitoring, and employee training measures. When properly implemented, risk management plans help prevent chemical releases and minimize their potential impacts at facilities that store large amounts of hazardous substances or flammable chemicals. Facilities are required to update and resubmit their risk management plans at least once every five years. These plans are used by EPA and other emergency responders to assess chemical risks to nearby communities and prepare for emergency responses.\\n\\nFor more information on the Risk Management Program, please visit: https://www.epa.gov/rmp\\nFor more information on the notification requirements under the EPCRA and CERCLA, please visit: https://www.epa.gov/epcra/epcra-section-304\\n# # #</td>\n",
       "      <td>U.S. EPA commits Sanger, Calif., poultry processor to protect workers, local community from risk of chemical releases</td>\n",
       "      <td>https://www.epa.gov/newsreleases/us-epa-commits-sanger-calif-poultry-processor-protect-workers-local-community-risk</td>\n",
       "    </tr>\n",
       "    <tr>\n",
       "      <th>2063</th>\n",
       "      <td>02/03/2017</td>\n",
       "      <td>Region 01</td>\n",
       "      <td>News Releases from Region 01\\nEPA Helps Two New England Communities Plan New Uses for Former Brownfield Sites\\nBrownfields Area-Wide Planning funds support community revitalization\\n02/03/2017\\nContact Information: \\nEmily Bender (bender.emily@epa.gov)\\n617-918-1037\\nBOSTON - The U.S. Environmental Protection Agency (EPA) has selected the City of Providence, Rhode Island and the Eastern Maine Development Corporation to receive funding to assist with planning for cleanup and reuse of Brownfield sites as part of the Brownfields Area-Wide Planning (AWP) program. Each recipient will receive $200,000 to engage their community and conduct planning activities for brownfield site reuse.\\nThe grants will help these New England communities plan improvements such as housing, transportation options, recreation and open space, education and health facilities, social services, renewed infrastructure, increased commerce and employment opportunities.\\nEPA'S AWP program was modeled after New York State's Brownfields Opportunity Area (BOA) Program, which was developed by communities – particularly lower income communities – to enable them to drive development that meets their needs and supports their community vision.  Studies have shown that residential property values near brownfields sites that are cleaned up increased between 5 and 15 percent. Data also shows that brownfields clean ups can increase overall property values within a one-mile radius. Preliminary analysis involving 48 brownfields sites shows that an estimated $29 million to $97 million in additional tax revenue was generated for local governments in a single year after cleanup.\\nEastern Maine Development Corporation, Bucksport, ME\\nThe Eastern Maine Development Corporation will work with the community and other stakeholders to develop an area-wide plan and implementation strategy for the former Verso Paper Mill project area.  The 117-acre area, located on the Penobscot River, abuts the Town of Bucksport's residential and commercial center.  The paper mill closed in 2014 and is currently vacant, and the project area also contains vacant buildings that once housed a tannery and a steel mill.  The area-wide grant will be used to supplement ongoing planning efforts in the project area.\\nCity of Providence, RI:\\nThe city will work with the community and other stakeholders to develop an area-wide plan and implementation strategy for the Woonasquatucket River Industrial Corridor, as well as support site design and redevelopment options for the former General Electric Baseworks site. This site, the project's catalyst, high-priority site, is a former manufacturing facility that currently is vacant and contaminated.  The city will use the area-wide planning process to convene stakeholders who are currently engaged in the project area to develop a cohesive vision that ties together numerous ongoing initiatives and redevelopment efforts.\\nMore information on the funding recipients (www.epa.gov/brownfields/types-brownfields-grant-funding)\\nTo apply for Brownfields Grants (www.epa.gov/brownfields/apply-brownfields-grant-funding)\\nMore information on the Partnership for Sustainable Communities (www.sustainablecommunities.gov)</td>\n",
       "      <td>EPA Helps Two New England Communities Plan New Uses for Former Brownfield Sites</td>\n",
       "      <td>https://www.epa.gov/newsreleases/epa-helps-two-new-england-communities-plan-new-uses-former-brownfield-sites</td>\n",
       "    </tr>\n",
       "    <tr>\n",
       "      <th>2064</th>\n",
       "      <td>02/03/2017</td>\n",
       "      <td>Region 05</td>\n",
       "      <td>News Releases from Region 05\\nEPA, DOJ and IDEM Reach Agreement with Hammond Sanitary District, Hammond, Ind., to Resolve Clean Water Act Violations\\n02/03/2017\\nContact Information: \\nJennifer Ostermeier (ostermeier.jennifer@epa.gov)\\n312-353-0618\\nFrancisco Arcaute (arcaute.francisco@epa.gov)\\n312 886 7613\\nEPA, DOJ and IDEM Reach Agreement with Hammond Sanitary District, Hammond, Ind., to Resolve Clean Water Act Violations\\nFor Immediate Release: No. OPA-17001\\nCHICAGO (Feb. 3, 2017) – U.S. Environmental Protection Agency, the Department of Justice, and the Indiana Department of Environmental Management have reached an agreement with the Hammond Sanitary District in Hammond, Ind., that will resolve long-standing violations of the Clean Water Act involving discharges of untreated sewage into the Grand and Little Calumet Rivers. Today’s settlement will also protect Hammond residents from exposure to raw sewage caused by sewer backups into their homes. The city will make significant infrastructure improvements and pay a $561,000 fine.\\nThe Hammond Sanitary District has agreed to take actions over the next 18 years to manage sewer overflows and effectively treat storm water and industrial wastewater during wet weather events. The city will develop a long-term control plan to limit combined sewer overflows and prevent sewer backups. IDEM also approved the district’s use of bioswale to drain storm water runoff from a planned bike trail in Hammond.  \\nThe Hammond Sanitary District has 10 combined sewer outfalls that discharge into the Grand and Little Calumet Rivers. When wastewater systems overflow, untreated sewage and other pollutants can be released to local waterways, threatening water quality and potentially contributing to beach closures and health concerns. Untreated sewage contains bacteria, viruses and parasites that can cause disease. \\nFor more information on combined sewer overflows, visit www.epa.gov/npdes/combined-sewer-overflows-csos.\\n###</td>\n",
       "      <td>EPA, DOJ and IDEM Reach Agreement with Hammond Sanitary District, Hammond, Ind., to Resolve Clean Water Act Violations</td>\n",
       "      <td>https://www.epa.gov/newsreleases/epa-doj-and-idem-reach-agreement-hammond-sanitary-district-hammond-ind-resolve-clean</td>\n",
       "    </tr>\n",
       "    <tr>\n",
       "      <th>2065</th>\n",
       "      <td>02/02/2017</td>\n",
       "      <td>Region 10</td>\n",
       "      <td>News Releases from Region 10\\nEPA cites Longview, WA, Oil company for spill prevention and control violations\\nSettlement agreement includes installation of upgraded spill detection system\\n02/02/2017\\nContact Information: \\nMark MacIntyre (macintyre.mark@epa.gov)\\n206-553-7302\\nEPA cites Longview, WA, Oil company for spill prevention and control violations\\nSettlement agreement includes installation of upgraded spill detection system\\n(Seattle) - EPA has settled with Wilson Oil, Inc., (doing business as Wilcox &amp; Flegel Oil Co.) for alleged Clean Water Act spill prevention violations at its Longview Terminal facility in Longview, Washington. \\nEPA determined after a 2015 inspection that the company had failed to implement an adequate Spill Prevention, Control and Countermeasure Plan and lacked adequate secondary containment for large oil storage tanks in one of the Terminal’s tank farms. Since the inspection, the company constructed new secondary containment for that tank farm and upgraded their SPCC plan. \\nAs part of the settlement, the Company will pay a $44,069 civil penalty and will implement a Supplemental Environmental Project worth approximately $125,000.\\nThe supplemental project calls for purchasing and installing equipment to remotely monitor liquid levels in both the above-ground oil storage tanks and secondary containment at two of their oil storage and distribution facilities. Monitoring data will be available – password protected - via the internet. If a monitoring alarm is triggered, pre-designated personnel will receive email alerts. Triggers would include high or low liquid levels in a storage tank, liquid in a containment area, or signal connection disruption. The new equipment is expected to be installed, online and in operation by mid-2017.\\nStrict SPCC compliance is critically important to preventing oil spills and protecting the Pacific Northwest’s rivers, lakes, and streams.\\n#  #  #\\nFor more about EPA’s Spill Prevention, Control and Countermeasure program:\\nhttps://www.epa.gov/oil-spills-prevention-and-preparedness-regulations</td>\n",
       "      <td>EPA cites Longview, WA, Oil company for spill prevention and control violations</td>\n",
       "      <td>https://www.epa.gov/newsreleases/epa-cites-longview-wa-oil-company-spill-prevention-and-control-violations</td>\n",
       "    </tr>\n",
       "    <tr>\n",
       "      <th>2066</th>\n",
       "      <td>02/02/2017</td>\n",
       "      <td>Region 03</td>\n",
       "      <td>News Releases from Region 03\\nWilmington Company Is Sentenced For Environmental Crimes\\n02/02/2017\\nContact Information: \\nDavid Sternberg (sternberg.david@epa.gov)\\n(215) 814-5548\\n WILMINGTON, Del. – Charles M. Oberly, III, United States Attorney for the District of Delaware, announced that International Petroleum Corporation of Delaware (“IPC’) was sentenced today by United States District Court Judge Gregory M. Sleet to a $1,300,000 fine and $2,200,000 restitution to the City of Wilmington for environmental crimes, including a conspiracy to violate the Clean Water Act.   \\nAccording to court documents and statements made in court, from 1992 through 2012 IPC operated a facility, located at 505 South Market Street in Wilmington, Delaware, which processed used oil and hydrocarbon-containing waste water and then sold the reprocessed petroleum to various companies for reuse.  The facility had two components: oil recovery and waste water treatment.  The facility’s petroleum processing activities generated waste water, which the company treated at its waste water portion of the facility prior to discharge into a sewer along Market Street owned by the City.  It issued IPC a federally-enforceable Clean Water Act pretreatment permit which governed the types and concentrations of pollutants which IPC could discharge into the City’s sewer system.  The pretreatment permit required IPC to take “representative” samples of its waste water on a monthly basis, to determine if it was complying with its permit limitations, and report its sampling results the City every six months.     \\nIPC admitted that its monthly samples were not representative, as it tampered with, and rendered inaccurate, monitoring methods and a monitoring device required by the Clean Water Act and IPC’s federally-enforceable pretreatment permit.   \\nIPC further admitted to violating the Resource Recovery and Conservation Act (“RCRA”) by transporting hazardous waste without a hazardous waste manifest.  In June and July 2012, IPC trucked to South Carolina for disposal sludge (“tank bottoms”) which IPC had removed from its storage tanks.  The tank bottoms contained concentrations of benzene, barium, chromium, cadmium, lead, tetrachloroethene (also known as “PCE”), and trichloroethene (also known as (“TCE”), which each served to classify the material as RCRA regulated hazardous waste.   \\n“Industrial wastewater can pose serious threats to public health and the environment, so it’s imperative that companies honestly treat and dispose of it properly and sample and report pollutant concentrations honestly,” said U.S. Attorney for the District of Delaware Charles M. Oberly III.    “Likewise, companies must handle hazardous waste properly to ensure its proper treatment and disposal.  The Department of Justice and EPA are committed to protecting human health and the environment for all Americans through strong enforcement of environmental laws, especially in environmental justice areas.  This conviction and sentence ensures that the defendant is held accountable with a criminal fine, and pays substantial restitution to the City of Wilmington.”   \\nThis case was investigated by EPA’s Criminal Investigation Division.  The City of Wilmington Department of Public Works and the DNREC Solid &amp; Hazardous Waste Management Section assisted in the investigation.  IPC, through its parent company which purchased the Wilmington plant after the crimes to which IPC pled guilty occurred, cooperated with the investigation. \\nThe case was prosecuted by Special Assistant U.S. Attorney Martin Harrell, EPA Region 3, and Assistant U.S. Attorney Edmond Falgowski from the U.S. Attorney’s Office for the District of Delaware.\\n *   *   *</td>\n",
       "      <td>Wilmington Company Is Sentenced For Environmental Crimes</td>\n",
       "      <td>https://www.epa.gov/newsreleases/wilmington-company-sentenced-environmental-crimes</td>\n",
       "    </tr>\n",
       "    <tr>\n",
       "      <th>2067</th>\n",
       "      <td>01/31/2017</td>\n",
       "      <td>Region 02</td>\n",
       "      <td>News Releases from Region 02\\nPCBs and Lead to be removed from Eighteen Mile Creek Superfund Site in Lockport, N.Y.\\n01/31/2017\\nContact Information: \\nMichael Basile (basile.michael@epa.gov)\\n(716) 551-4410\\n(New York, N.Y. – Jan. 31, 2017) The U.S. Environmental Protection Agency has finalized a plan to remove contamination in the creek corridor section of the Eighteen Mile Creek Superfund Site, in Lockport, N.Y. The creek corridor is approximately one mile in length and extends from the Erie Canal to Harwood Street in Lockport. The Creek and several adjacent properties are contaminated with polychlorinated biphenyls (PCBs), lead and other contaminants.  PCBs can damage the immune, reproductive, nervous and endocrine systems and are potentially cancer-causing. Lead can damage the nervous system. This portion of the site cleanup will cost an estimated $23 million.\\nThis cleanup plan, which is the second phase of cleanup at this site, will require the complete removal of contaminated sediment in the creek corridor. The EPA requires a combination of excavation and off of the site disposal, capping, and institutional controls to address contaminated soil at Upson Park, the former Flintkote Plant, White Transportation, and former United Paperboard Company properties. During the removal of contaminated sediment, the dilapidated Clinton and William Street dams will be removed.\\nEPA will be conducting work at:\\nThe former United Paperboard Company property located at 62 and 70 Mill Street, where a lumber company and paper company operated from the 1890s to 1948;\\nThe White Transportation property located at 30 through 40 Mill Street;\\nUpson Park, a 5.9 acre property that was used by a canal building company and then a paper pulp mill.  It is now a public park along the Erie Canal with recreational uses; and\\nThe former Flintkote Plant property located at 198 and 300 Mill Street, where Flintkote operated between 1928 and 1971 and manufactured felt products. \\nThe EPA completed the initial phase of cleanup in May of 2016, which included the demolition of the former Flintkote building and the buyout and relocation of five families from their Water Street residences in Lockport, N.Y. Those homes and the former industrial building were demolished, and all demolition debris was removed from the properties. The excavation of contaminated soil at the residential properties will be performed during cleanup of sediment in the creek corridor to prevent recontamination of the Creek and the properties. \\nEighteen Mile Creek has a long history of industrial use dating back to the 1800s. The headwaters of the Creek consist of an east and west branch beginning immediately north of the New York State Barge Canal in Lockport. Eighteen Mile Creek flows north approximately 15 miles and discharges into Lake Ontario in Olcott, N.Y. The site was placed on the Superfund National Priorities List in March 2012. Investigations at the site show that sediment and soil in and around Eighteen Mile Creek and nearby properties are contaminated with variety of pollutants, including PCBs and lead.\\nThe EPA has taken a multi-phased approach to cleaning up the 18 Mile Creek site. In the first phase, a number of buildings were demolished including buildings on the former Flintkote property. The second phase of the cleanup to be conducted under the final cleanup plan announced today, will address soil and sediment contamination in the creek corridor. The third phase of cleanup, which is still in the investigation stage, will address groundwater and contaminated sediment in the Creek from Lockport to Lake Ontario.\\nThe Superfund program operates on the principle that polluters should pay for the cleanups, rather than passing the costs to taxpayers. The EPA continues to search for parties responsible for the contamination and, if found, will hold them accountable for the costs of investigations and cleanups. While it searches for viable responsible parties, the EPA Superfund program has paid for the cleanup at this site using taxpayer dollars.\\nThe EPA held a public meeting in Lockport on September 7, 2016 to explain its proposed plan. The EPA accepted public comments for 30 days and considered public input before finalizing the plan.\\nFor the record of decision and more information about the Eighteen Mile Creek Superfund Site, visit:\\nhttps://www.epa.gov/superfund/eighteenmile-creek\\n17-002</td>\n",
       "      <td>PCBs and Lead to be removed from Eighteen Mile Creek Superfund Site in Lockport, N.Y.</td>\n",
       "      <td>https://www.epa.gov/newsreleases/pcbs-and-lead-be-removed-eighteen-mile-creek-superfund-site-lockport-ny</td>\n",
       "    </tr>\n",
       "    <tr>\n",
       "      <th>2068</th>\n",
       "      <td>01/30/2017</td>\n",
       "      <td>Region 10</td>\n",
       "      <td>News Releases from Region 10\\nEPA Lifts Outdoor Burn Ban for Yakama Nation\\n01/30/2017\\nContact Information: \\nSuzanne Skadowski (skadowski.suzanne@epa.gov)\\n206-553-2160\\nOn January 30, 2017, the U.S. Environmental Protection Agency lifted the ban on outdoor open burning on the Yakama Reservation, thanks to improving weather conditions and reduced air pollution. \\nEPA appreciates the efforts of reservation residents to reduce sources of air pollution as much as possible. Air pollution can have significant health impacts. Cooperation from the community helps people who are most at risk during this period, including children, the elderly, pregnant women, people with asthma or difficulty breathing, diabetes, heart problems or otherwise compromised health. \\nThe burn ban had applied to all outdoor and agricultural burning—including camping and recreational fires—in all areas within external reservation boundaries regardless of ownership or tribal membership.  Ceremonial and traditional fires were exempt from the burn ban.  For areas outside reservation boundaries, please contact your local clean air agency, fire department, or the Washington State Department of Ecology.\\nTo check conditions in your area, go to http://www.airnow.gov/.\\nFor current burn ban status, visit https://waburnbans.net/ or contact the tribal air quality office, or the EPA at 1-800-424-4372 or email R10_farrhotline@epa.gov. \\nFind more information online, go to https://www.epa.gov/farr.</td>\n",
       "      <td>EPA Lifts Outdoor Burn Ban for Yakama Nation</td>\n",
       "      <td>https://www.epa.gov/newsreleases/epa-lifts-outdoor-burn-ban-yakama-nation</td>\n",
       "    </tr>\n",
       "  </tbody>\n",
       "</table>\n",
       "</div>"
      ],
      "text/plain": [
       "            date     region  \\\n",
       "2059  02/08/2017  Region 10   \n",
       "2060  02/07/2017  Region 01   \n",
       "2061  02/06/2017  Region 01   \n",
       "2062  02/06/2017  Region 09   \n",
       "2063  02/03/2017  Region 01   \n",
       "2064  02/03/2017  Region 05   \n",
       "2065  02/02/2017  Region 10   \n",
       "2066  02/02/2017  Region 03   \n",
       "2067  01/31/2017  Region 02   \n",
       "2068  01/30/2017  Region 10   \n",
       "\n",
       "                                                                                                                                                                                                                                                                                                                                                                                                                                                                                                                                                                                                                                                                                                                                                                                                                                                                                                                                                                                                                                                                                                                                                                                                                                                                                                                                                                                                                                                                                                                                                                                                                                                                                                                                                                                                                                                                                                                                                                                                                                                                                                                                                                                                                                                                                                                                                                                                                                                                                                                                                                                                                                                                                                                                                                                                                                                                                                                                                                                                                                                                                                                                                                                                                                                                                                                                                                                                                                                                                                                                                                                                                                                                                                                                                                                                                                                                                                                                                                                                                                                                                                                                                                                                                                                                                                                                                                                                                                                                                                                                                                                                                                                                                                                                                                                                                                                                                                                                                                                                                               text  \\\n",
       "2059  News Releases from Region 10\\nEPA settlement with Oregon landowner results in wetland restoration in Warrenton\\n02/08/2017\\nContact Information: \\nMark A. MacIntyre (macintyre.mark@epa.gov)\\n206-553-7302\\n(Seattle) - This spring, Martin Nygaard and Nygaard Land, LLC, will embark on a major wetland restoration effort, covering 72 acres of a formerly wooded property owned and cleared by Mr. Nygaard, east of Airport Lane and west of Highway 101 in Warrenton, Oregon. Work was originally scheduled for last fall, but heavy Autumn rains pushed the restoration activities back until spring. Work at the site will involve heavy equipment working in the fragile wetland habitat to remove culverts and other structures, while also restoring filled tidal channels.\\nThe project is part of a federal Clean Water Act settlement between the U.S. Environmental Protection Agency, Mr. Nygaard and Nygaard Land, LLC, to resolve clean water act discharge violations on the property. The alleged violations include discharging dredged or fill material into wetlands and other waters of the United States without an Army Corps of Engineers Clean Water Act Section 404 permit.\\nWhile a large portion of the site will be left to recover naturally, active re-vegetation will occur on just over 2 acres, including restoring an additional ½ acre of tidal channels that run through the site. Along with agreeing to perform the restoration project and doing the streambank repairs, Mr. Nygaard will pay a $62,924 penalty.\\nThe site’s wetlands and tidal channels are connected to the Lewis and Clark River, which flows into Youngs Bay, then into the Columbia River, and ultimately into the Pacific Ocean. The river is home to bottom-feeding sturgeon, which is a popular sport fish in the area. It is also home to an extensive salmon repopulation program. The river also supports runs of wild steelhead and cutthroat trout. Each of these species depend on cold, clean, oxygen-rich water to survive and use tidal channels and wetlands for feeding and rearing their young.\\nThis is not the first time Mr. Nygaard and his companies have experienced regulatory transactions with both state (Oregon Department of Lands) and federal (Army Corps of Engineers) authorities.  The state and Corps elected to refer this case to the EPA based on multiple past violations by the Nygaard family’s companies, including wetland fills near their stockyard in Hammond (OR) in 2009 and on a Seaside (OR) property in 2007.\\nWetlands are important features in the Oregon landscape that provide many benefits for people, fish, and wildlife. These include: Protecting and improving water quality, providing fish and wildlife habitat, storing floodwaters, and maintaining surface water flow during hot, dry summers.\\n#  #  #                                                                                                                                                                                                                                                                                                                                                                                                                                                                                                                                                                                                                                                                                                                                                                                                                                                                                                                                                                                                                                                                                                                                                                                                                                                                                                                                                                                                                                                                                                                                                                                                                                                                                                                                                                                                                                                                                                                                                                                                                                                                                                                                        \n",
       "2060  News Releases from Region 01\\nEPA Continues to Ensure Public Health Protection at Superfund Sites\\nEPA Completes Reviews at Nine Superfund Sites in 2016\\n02/07/2017\\nContact Information: \\nEmily Bender (bender.emily@epa.gov)\\n617-918-1037\\nBOSTON - EPA has completed comprehensive reviews of site cleanups at nine National Priorities List Sites (Superfund Sites), including four Federal Facilities, across New England by performing required Five-Year Reviews of each site. The Superfund program, a federal program established by Congress in 1980, investigates and cleans up the most complex, uncontrolled or abandoned hazardous waste sites in the country and endeavors to return them to productive use.\\nThroughout the superfund process of designing and constructing a cleanup remedy for a hazardous waste site, EPA's first goal is to make sure the remedy will be protective of public health and the environment. Then, once a remedy or portion of a remedy has begun, EPA continues to ensure protectiveness by requiring comprehensive reviews of the cleanup every five years. It is important for EPA to regularly check on site progress to ensure the remedy is working properly at the site. In addition to extensive review of the remedy itself, its engineering, and its overall functionality, EPA may also look at outside variables that could potentially affect the performance of the remedy, such as redevelopment, impacts from storms or flooding, and overall wear and tear. Five-year review evaluations identify any issues and, if called for, recommend action(s) necessary to address them.\\nEPA is actively involved in Superfund studies and cleanups at 123 sites across New England. There are many phases of the Superfund cleanup process including planning for future use and redevelopment at sites and post cleanup monitoring of sites. EPA must ensure the remedy is protective of public health and the environment and any redevelopment will uphold the protectiveness of the remedy into the future. Last year, EPA reviewed remedies at sites like South Weymouth Naval Air Station where EPA continues to work with the Navy, the State, and a developer to move forward on a master plan to construct a very large mixed use community to put the site into productive reuse. The master plan currently includes over a thousand homes, millions of square feet for commercial operations, athletic fields and other facilities at the site.\\nEPA also reviewed the Materials Technology Lab (U.S. Army) in Watertown, Mass, where 30 acres of the former hazardous waste site are now a mixed use complex including apartments, retail stores, restaurants, offices, and various other businesses. Currently, EPA is working with the Army, the State, and a developer on further redevelopment plans for another portion of the Materials Technology Lab Site which includes upgraded utilities, a parking garage, several new buildings.\\nAt the Eastern Surplus Company Superfund Site in Meddybemps, Maine, EPA found Native American artifacts and subsequently determined the northern part of the site was eligible for the National Register of Historic Places. This area, formerly an army surplus and salvage retailer, and now named N'tolonapemk (\"Our Ancestor's Place\") by the Passamaquoddy Tribe, is now a major archaeological research site. In 2012, parties constructed a commemorative patio and pathway for the area.\\nThe complete list of New England Superfund Sites where EPA has completed Five Year Reviews in 2016 are below. Please note, the Web link provided after each site provides detailed information on site status, redevelopment efforts, past assessment and cleanup activity as well as the Five-Year Review report. The web link also provides contact information for the EPA Project Manager and Community Involvement Coordinator at each site. Community members and local officials are invited to contact EPA with any comments or concerns about a Superfund Site or the conclusions in the recent Five Year Review.\\nConnecticut\\nDurham Meadows, Durham, CT (www.epa.gov/superfund/durham)\\nNew London Submarine Base, New London, CT (www.epa.gov/superfund/newlondon)\\nMaine\\nCallahan Mine, Brooksville, ME (www.epa.gov/superfund/callahan)\\nEastern Surplus, Meddybemps, ME (www.epa.gov/superfund/eastern)\\nMassachusetts\\nFort Devens-Sudbury Training Annex, Sudbury, MA (www.epa.gov/superfund/sudburyannex)\\nMaterials Technology Lab, Watertown, MA (www.epa.gov/superfund/amtl)\\nSouth Weymouth Naval Air Station, OU10, U.S. Coast Guard/Buoy Depot (www.epa.gov/superfund/sweymouth)\\nNew Hampshire\\nSavage Municipal Landfill, Milford, NH (www.epa.gov/superfund/savage)\\nVermont\\nOld Springfield Landfill (addendum review), Springfield, VT (www.epa.gov/superfund/oldspringfield)\\nPine Street Canal Superfund Site, Burlington, VT (www.epa.gov/superfund/pinestreet)   \n",
       "2061  News Releases from Region 01\\nJaffrey, N.H. Facility to Upgrade its Wastewater Treatment Systems Under Clean Water Act Settlement\\n02/06/2017\\nContact Information: \\nDavid Deegan (deegan.dave@epa.gov)\\n617-918-1017\\nBOSTON - Under the terms of a Consent Decree lodged in federal court, EMD Millipore Corp. of Jaffrey, N.H., will upgrade its on-site wastewater treatment system to comply with the terms of the company's industrial wastewater discharge permit and prevent pretreatment violations of the federal Clean Water Act (CWA). The company will also pay a civil penalty of $385,000 for alleged violations of the CWA.\\nEMD Millipore operates an industrial manufacturing facility in Jaffrey, N.H. that produces water filtration devices.  The facility operates an on-site wastewater treatment system that introduces wastewaters into the Jaffrey publicly owned treatment works (POTW) through a dedicated pipe.  The facility's wastewaters contain pollutants including ammonia, total suspended solids, hydrogen ion concentration (pH), and oxygen demanding pollutants such as biochemical oxygen demand.  The settlement resolves numerous allegations of Clean Water Act pretreatment violations, including pass through and interference violations at the Jaffrey POTW.\\nThe Consent Decree requires EMD Millipore to upgrade the facility's wastewater treatment system to achieve compliance with the federal pretreatment regulations and the facility's industrial wastewater discharge permit.  The company must also comply with certain interim wastewater management requirements.  Finally, EMD Millipore must provide annual training to individuals at the facility who are responsible for CWA compliance and perform wastewater sampling and analysis, and submit quarterly reports to EPA, to ensure compliance with the Consent Decree and the CWA.\\nThe Consent Decree is the result of a federal enforcement action brought by the U.S. Department of Justice, on behalf of the U.S. Environmental Protection Agency.\\nMore information:\\n\\nThe Consent Decree, lodged in the U.S. District Court for the District of New Hampshire, is subject to a 30-day public comment period and approval by the federal court.  Once it is published in the Federal Register, a copy of the consent decree will be available on the Justice Department Web site at http://www.usdoj.gov/enrd/Consent_Decrees.html.                                                                                                                                                                                                                                                                                                                                                                                                                                                                                                                                                                                                                                                                                                                                                                                                                                                                                                                                                                                                                                                                                                                                                                                                                                                                                                                                                                                                                                                                                                                                                                                                                                                                                                                                                                                                                                                                                                                                                                                                                                                                                                                                                                                                                                                                                                                                                                                                                                                                                                                                                                 \n",
       "2062  News Releases from Region 09\\nU.S. EPA commits Sanger, Calif., poultry processor to protect workers, local community from risk of chemical releases\\n02/06/2017\\nContact Information: \\nMichele Huitric (huitric.michele@epa.gov)\\n415-972-3165\\nSAN FRANCISCO – Today, the U.S. Environmental Protection Agency announced a settlement with Pitman Farms, Inc., for violations of federal chemical safety and reporting requirements following three ammonia releases at its poultry processing facility located in Sanger, Calif.  Pitman Farms, which sells poultry from its Sanger facility under the brand name Mary’s Free Range Chicken, will pay a $242,980 civil penalty and perform two local environmental projects valued at nearly $200,000.\\nEPA’s action is a result of its November 2014 inspection that uncovered violations of the federal Clean Air Act’s Risk Management Program, designed to prevent the accidental release of extremely hazardous substances to the air. The inspection was prompted by a release of 2,700 pounds of anhydrous ammonia at the facility in September 2014 that led to the hospitalization of 15 employees. Additional smaller releases of anhydrous ammonia occurred in May 2016 and July 2016. Each of those incidents resulted in the medical treatment of 4 employees.\\n“Companies using hazardous chemicals must take steps to ensure the safety of nearby residents and their workers,” said Alexis Strauss, EPA’s Acting Regional Administrator for the Pacific Southwest. “We appreciate Pitman Farms’ recent efforts to install new refrigeration equipment to reduce the chance of ammonia releases.”\\nDuring its inspection, EPA found that Pitman Farms violated the Risk Management Program regulations by failing to:\\nProvide training to employees to assure they understand and adhere to the operating procedures.\\nEnsure that employees were properly fitted for personal protective equipment.\\nPerform annual inspections and tests of the ammonia refrigeration system, and correct deficiencies in equipment in a timely manner.\\nPromptly address all recommendations made in its Incident Investigation Report after the September 2014 release of anhydrous ammonia at the facility. \\nDocument that all ammonia process equipment complied with industry standards, such as labeling ammonia refrigeration system pipes.\\nEPA inspectors also found that the company failed to immediately notify the National Response Center and the California Office of Emergency Services as soon as it knew of the releases in September 2014 and July 2016, in violation of the federal Comprehensive Environmental Response, Compensation, and Liability Act and Emergency Planning and Community Right-to-Know Act.\\nUnder the settlement, Pitman Farms will spend $194,950 on environmental projects to support emergency planning and preparedness efforts in the Sanger area and larger Fresno County communities. The company will purchase and donate emergency response equipment to the Fresno County Hazmat Emergency Response Team and the City of Fresno Fire Department, to assist them in responding to hazardous materials incidents. In addition, the company will upgrade its facility by installing centralized safety controls to provide rapid detection and control of anhydrous ammonia releases. Pitman Farms has also installed a new state-of-the-art ammonia refrigeration system and filed a revised risk management plan for the new system, which became operational in August 2016.\\nThe Clean Air Act’s Risk Management Program requires facility plans that include hazard assessments detailing the potential effects of an accidental release and a prevention program that includes safety precautions and maintenance, monitoring, and employee training measures. When properly implemented, risk management plans help prevent chemical releases and minimize their potential impacts at facilities that store large amounts of hazardous substances or flammable chemicals. Facilities are required to update and resubmit their risk management plans at least once every five years. These plans are used by EPA and other emergency responders to assess chemical risks to nearby communities and prepare for emergency responses.\\n\\nFor more information on the Risk Management Program, please visit: https://www.epa.gov/rmp\\nFor more information on the notification requirements under the EPCRA and CERCLA, please visit: https://www.epa.gov/epcra/epcra-section-304\\n# # #                                                                                                                                                                                                                                                                                                                                                                                                                           \n",
       "2063  News Releases from Region 01\\nEPA Helps Two New England Communities Plan New Uses for Former Brownfield Sites\\nBrownfields Area-Wide Planning funds support community revitalization\\n02/03/2017\\nContact Information: \\nEmily Bender (bender.emily@epa.gov)\\n617-918-1037\\nBOSTON - The U.S. Environmental Protection Agency (EPA) has selected the City of Providence, Rhode Island and the Eastern Maine Development Corporation to receive funding to assist with planning for cleanup and reuse of Brownfield sites as part of the Brownfields Area-Wide Planning (AWP) program. Each recipient will receive $200,000 to engage their community and conduct planning activities for brownfield site reuse.\\nThe grants will help these New England communities plan improvements such as housing, transportation options, recreation and open space, education and health facilities, social services, renewed infrastructure, increased commerce and employment opportunities.\\nEPA'S AWP program was modeled after New York State's Brownfields Opportunity Area (BOA) Program, which was developed by communities – particularly lower income communities – to enable them to drive development that meets their needs and supports their community vision.  Studies have shown that residential property values near brownfields sites that are cleaned up increased between 5 and 15 percent. Data also shows that brownfields clean ups can increase overall property values within a one-mile radius. Preliminary analysis involving 48 brownfields sites shows that an estimated $29 million to $97 million in additional tax revenue was generated for local governments in a single year after cleanup.\\nEastern Maine Development Corporation, Bucksport, ME\\nThe Eastern Maine Development Corporation will work with the community and other stakeholders to develop an area-wide plan and implementation strategy for the former Verso Paper Mill project area.  The 117-acre area, located on the Penobscot River, abuts the Town of Bucksport's residential and commercial center.  The paper mill closed in 2014 and is currently vacant, and the project area also contains vacant buildings that once housed a tannery and a steel mill.  The area-wide grant will be used to supplement ongoing planning efforts in the project area.\\nCity of Providence, RI:\\nThe city will work with the community and other stakeholders to develop an area-wide plan and implementation strategy for the Woonasquatucket River Industrial Corridor, as well as support site design and redevelopment options for the former General Electric Baseworks site. This site, the project's catalyst, high-priority site, is a former manufacturing facility that currently is vacant and contaminated.  The city will use the area-wide planning process to convene stakeholders who are currently engaged in the project area to develop a cohesive vision that ties together numerous ongoing initiatives and redevelopment efforts.\\nMore information on the funding recipients (www.epa.gov/brownfields/types-brownfields-grant-funding)\\nTo apply for Brownfields Grants (www.epa.gov/brownfields/apply-brownfields-grant-funding)\\nMore information on the Partnership for Sustainable Communities (www.sustainablecommunities.gov)                                                                                                                                                                                                                                                                                                                                                                                                                                                                                                                                                                                                                                                                                                                                                                                                                                                                                                                                                                                                                                                                                                                                                                                                                                                                                                                                                                                                                                                                                                                                                                                                                                                                              \n",
       "2064  News Releases from Region 05\\nEPA, DOJ and IDEM Reach Agreement with Hammond Sanitary District, Hammond, Ind., to Resolve Clean Water Act Violations\\n02/03/2017\\nContact Information: \\nJennifer Ostermeier (ostermeier.jennifer@epa.gov)\\n312-353-0618\\nFrancisco Arcaute (arcaute.francisco@epa.gov)\\n312 886 7613\\nEPA, DOJ and IDEM Reach Agreement with Hammond Sanitary District, Hammond, Ind., to Resolve Clean Water Act Violations\\nFor Immediate Release: No. OPA-17001\\nCHICAGO (Feb. 3, 2017) – U.S. Environmental Protection Agency, the Department of Justice, and the Indiana Department of Environmental Management have reached an agreement with the Hammond Sanitary District in Hammond, Ind., that will resolve long-standing violations of the Clean Water Act involving discharges of untreated sewage into the Grand and Little Calumet Rivers. Today’s settlement will also protect Hammond residents from exposure to raw sewage caused by sewer backups into their homes. The city will make significant infrastructure improvements and pay a $561,000 fine.\\nThe Hammond Sanitary District has agreed to take actions over the next 18 years to manage sewer overflows and effectively treat storm water and industrial wastewater during wet weather events. The city will develop a long-term control plan to limit combined sewer overflows and prevent sewer backups. IDEM also approved the district’s use of bioswale to drain storm water runoff from a planned bike trail in Hammond.  \\nThe Hammond Sanitary District has 10 combined sewer outfalls that discharge into the Grand and Little Calumet Rivers. When wastewater systems overflow, untreated sewage and other pollutants can be released to local waterways, threatening water quality and potentially contributing to beach closures and health concerns. Untreated sewage contains bacteria, viruses and parasites that can cause disease. \\nFor more information on combined sewer overflows, visit www.epa.gov/npdes/combined-sewer-overflows-csos.\\n###                                                                                                                                                                                                                                                                                                                                                                                                                                                                                                                                                                                                                                                                                                                                                                                                                                                                                                                                                                                                                                                                                                                                                                                                                                                                                                                                                                                                                                                                                                                                                                                                                                                                                                                                                                                                                                                                                                                                                                                                                                                                                                                                                                                                                                                                                                                                                                                                                                                                                                                                                                                                                                                                                                                                                                                                                                                                                                                                                               \n",
       "2065  News Releases from Region 10\\nEPA cites Longview, WA, Oil company for spill prevention and control violations\\nSettlement agreement includes installation of upgraded spill detection system\\n02/02/2017\\nContact Information: \\nMark MacIntyre (macintyre.mark@epa.gov)\\n206-553-7302\\nEPA cites Longview, WA, Oil company for spill prevention and control violations\\nSettlement agreement includes installation of upgraded spill detection system\\n(Seattle) - EPA has settled with Wilson Oil, Inc., (doing business as Wilcox & Flegel Oil Co.) for alleged Clean Water Act spill prevention violations at its Longview Terminal facility in Longview, Washington. \\nEPA determined after a 2015 inspection that the company had failed to implement an adequate Spill Prevention, Control and Countermeasure Plan and lacked adequate secondary containment for large oil storage tanks in one of the Terminal’s tank farms. Since the inspection, the company constructed new secondary containment for that tank farm and upgraded their SPCC plan. \\nAs part of the settlement, the Company will pay a $44,069 civil penalty and will implement a Supplemental Environmental Project worth approximately $125,000.\\nThe supplemental project calls for purchasing and installing equipment to remotely monitor liquid levels in both the above-ground oil storage tanks and secondary containment at two of their oil storage and distribution facilities. Monitoring data will be available – password protected - via the internet. If a monitoring alarm is triggered, pre-designated personnel will receive email alerts. Triggers would include high or low liquid levels in a storage tank, liquid in a containment area, or signal connection disruption. The new equipment is expected to be installed, online and in operation by mid-2017.\\nStrict SPCC compliance is critically important to preventing oil spills and protecting the Pacific Northwest’s rivers, lakes, and streams.\\n#  #  #\\nFor more about EPA’s Spill Prevention, Control and Countermeasure program:\\nhttps://www.epa.gov/oil-spills-prevention-and-preparedness-regulations                                                                                                                                                                                                                                                                                                                                                                                                                                                                                                                                                                                                                                                                                                                                                                                                                                                                                                                                                                                                                                                                                                                                                                                                                                                                                                                                                                                                                                                                                                                                                                                                                                                                                                                                                                                                                                                                                                                                                                                                                                                                                                                                                                                                                                                                                                                                                                                                                                                                                                                                                                                                                                                                                                                                                                                                                                                        \n",
       "2066  News Releases from Region 03\\nWilmington Company Is Sentenced For Environmental Crimes\\n02/02/2017\\nContact Information: \\nDavid Sternberg (sternberg.david@epa.gov)\\n(215) 814-5548\\n WILMINGTON, Del. – Charles M. Oberly, III, United States Attorney for the District of Delaware, announced that International Petroleum Corporation of Delaware (“IPC’) was sentenced today by United States District Court Judge Gregory M. Sleet to a $1,300,000 fine and $2,200,000 restitution to the City of Wilmington for environmental crimes, including a conspiracy to violate the Clean Water Act.   \\nAccording to court documents and statements made in court, from 1992 through 2012 IPC operated a facility, located at 505 South Market Street in Wilmington, Delaware, which processed used oil and hydrocarbon-containing waste water and then sold the reprocessed petroleum to various companies for reuse.  The facility had two components: oil recovery and waste water treatment.  The facility’s petroleum processing activities generated waste water, which the company treated at its waste water portion of the facility prior to discharge into a sewer along Market Street owned by the City.  It issued IPC a federally-enforceable Clean Water Act pretreatment permit which governed the types and concentrations of pollutants which IPC could discharge into the City’s sewer system.  The pretreatment permit required IPC to take “representative” samples of its waste water on a monthly basis, to determine if it was complying with its permit limitations, and report its sampling results the City every six months.     \\nIPC admitted that its monthly samples were not representative, as it tampered with, and rendered inaccurate, monitoring methods and a monitoring device required by the Clean Water Act and IPC’s federally-enforceable pretreatment permit.   \\nIPC further admitted to violating the Resource Recovery and Conservation Act (“RCRA”) by transporting hazardous waste without a hazardous waste manifest.  In June and July 2012, IPC trucked to South Carolina for disposal sludge (“tank bottoms”) which IPC had removed from its storage tanks.  The tank bottoms contained concentrations of benzene, barium, chromium, cadmium, lead, tetrachloroethene (also known as “PCE”), and trichloroethene (also known as (“TCE”), which each served to classify the material as RCRA regulated hazardous waste.   \\n“Industrial wastewater can pose serious threats to public health and the environment, so it’s imperative that companies honestly treat and dispose of it properly and sample and report pollutant concentrations honestly,” said U.S. Attorney for the District of Delaware Charles M. Oberly III.    “Likewise, companies must handle hazardous waste properly to ensure its proper treatment and disposal.  The Department of Justice and EPA are committed to protecting human health and the environment for all Americans through strong enforcement of environmental laws, especially in environmental justice areas.  This conviction and sentence ensures that the defendant is held accountable with a criminal fine, and pays substantial restitution to the City of Wilmington.”   \\nThis case was investigated by EPA’s Criminal Investigation Division.  The City of Wilmington Department of Public Works and the DNREC Solid & Hazardous Waste Management Section assisted in the investigation.  IPC, through its parent company which purchased the Wilmington plant after the crimes to which IPC pled guilty occurred, cooperated with the investigation. \\nThe case was prosecuted by Special Assistant U.S. Attorney Martin Harrell, EPA Region 3, and Assistant U.S. Attorney Edmond Falgowski from the U.S. Attorney’s Office for the District of Delaware.\\n *   *   *                                                                                                                                                                                                                                                                                                                                                                                                                                                                                                                                                                                                                                                                                                                                                                                                                                                                                                                                                                                                                                                                                                                                                 \n",
       "2067  News Releases from Region 02\\nPCBs and Lead to be removed from Eighteen Mile Creek Superfund Site in Lockport, N.Y.\\n01/31/2017\\nContact Information: \\nMichael Basile (basile.michael@epa.gov)\\n(716) 551-4410\\n(New York, N.Y. – Jan. 31, 2017) The U.S. Environmental Protection Agency has finalized a plan to remove contamination in the creek corridor section of the Eighteen Mile Creek Superfund Site, in Lockport, N.Y. The creek corridor is approximately one mile in length and extends from the Erie Canal to Harwood Street in Lockport. The Creek and several adjacent properties are contaminated with polychlorinated biphenyls (PCBs), lead and other contaminants.  PCBs can damage the immune, reproductive, nervous and endocrine systems and are potentially cancer-causing. Lead can damage the nervous system. This portion of the site cleanup will cost an estimated $23 million.\\nThis cleanup plan, which is the second phase of cleanup at this site, will require the complete removal of contaminated sediment in the creek corridor. The EPA requires a combination of excavation and off of the site disposal, capping, and institutional controls to address contaminated soil at Upson Park, the former Flintkote Plant, White Transportation, and former United Paperboard Company properties. During the removal of contaminated sediment, the dilapidated Clinton and William Street dams will be removed.\\nEPA will be conducting work at:\\nThe former United Paperboard Company property located at 62 and 70 Mill Street, where a lumber company and paper company operated from the 1890s to 1948;\\nThe White Transportation property located at 30 through 40 Mill Street;\\nUpson Park, a 5.9 acre property that was used by a canal building company and then a paper pulp mill.  It is now a public park along the Erie Canal with recreational uses; and\\nThe former Flintkote Plant property located at 198 and 300 Mill Street, where Flintkote operated between 1928 and 1971 and manufactured felt products. \\nThe EPA completed the initial phase of cleanup in May of 2016, which included the demolition of the former Flintkote building and the buyout and relocation of five families from their Water Street residences in Lockport, N.Y. Those homes and the former industrial building were demolished, and all demolition debris was removed from the properties. The excavation of contaminated soil at the residential properties will be performed during cleanup of sediment in the creek corridor to prevent recontamination of the Creek and the properties. \\nEighteen Mile Creek has a long history of industrial use dating back to the 1800s. The headwaters of the Creek consist of an east and west branch beginning immediately north of the New York State Barge Canal in Lockport. Eighteen Mile Creek flows north approximately 15 miles and discharges into Lake Ontario in Olcott, N.Y. The site was placed on the Superfund National Priorities List in March 2012. Investigations at the site show that sediment and soil in and around Eighteen Mile Creek and nearby properties are contaminated with variety of pollutants, including PCBs and lead.\\nThe EPA has taken a multi-phased approach to cleaning up the 18 Mile Creek site. In the first phase, a number of buildings were demolished including buildings on the former Flintkote property. The second phase of the cleanup to be conducted under the final cleanup plan announced today, will address soil and sediment contamination in the creek corridor. The third phase of cleanup, which is still in the investigation stage, will address groundwater and contaminated sediment in the Creek from Lockport to Lake Ontario.\\nThe Superfund program operates on the principle that polluters should pay for the cleanups, rather than passing the costs to taxpayers. The EPA continues to search for parties responsible for the contamination and, if found, will hold them accountable for the costs of investigations and cleanups. While it searches for viable responsible parties, the EPA Superfund program has paid for the cleanup at this site using taxpayer dollars.\\nThe EPA held a public meeting in Lockport on September 7, 2016 to explain its proposed plan. The EPA accepted public comments for 30 days and considered public input before finalizing the plan.\\nFor the record of decision and more information about the Eighteen Mile Creek Superfund Site, visit:\\nhttps://www.epa.gov/superfund/eighteenmile-creek\\n17-002                                                                                                                                                                                                                                                                                                                                                                                                                     \n",
       "2068  News Releases from Region 10\\nEPA Lifts Outdoor Burn Ban for Yakama Nation\\n01/30/2017\\nContact Information: \\nSuzanne Skadowski (skadowski.suzanne@epa.gov)\\n206-553-2160\\nOn January 30, 2017, the U.S. Environmental Protection Agency lifted the ban on outdoor open burning on the Yakama Reservation, thanks to improving weather conditions and reduced air pollution. \\nEPA appreciates the efforts of reservation residents to reduce sources of air pollution as much as possible. Air pollution can have significant health impacts. Cooperation from the community helps people who are most at risk during this period, including children, the elderly, pregnant women, people with asthma or difficulty breathing, diabetes, heart problems or otherwise compromised health. \\nThe burn ban had applied to all outdoor and agricultural burning—including camping and recreational fires—in all areas within external reservation boundaries regardless of ownership or tribal membership.  Ceremonial and traditional fires were exempt from the burn ban.  For areas outside reservation boundaries, please contact your local clean air agency, fire department, or the Washington State Department of Ecology.\\nTo check conditions in your area, go to http://www.airnow.gov/.\\nFor current burn ban status, visit https://waburnbans.net/ or contact the tribal air quality office, or the EPA at 1-800-424-4372 or email R10_farrhotline@epa.gov. \\nFind more information online, go to https://www.epa.gov/farr.                                                                                                                                                                                                                                                                                                                                                                                                                                                                                                                                                                                                                                                                                                                                                                                                                                                                                                                                                                                                                                                                                                                                                                                                                                                                                                                                                                                                                                                                                                                                                                                                                                                                                                                                                                                                                                                                                                                                                                                                                                                                                                                                                                                                                                                                                                                                                                                                                                                                                                                                                                                                                                                                                                                                                                                                                                                                                                                                                                                                                                                                                                                                                                                                                                                                                                                                                                                                                                                                                         \n",
       "\n",
       "                                                                                                                        name  \\\n",
       "2059  EPA settlement with Oregon landowner results in wetland restoration in Warrenton                                         \n",
       "2060  EPA Continues to Ensure Public Health Protection at Superfund Sites                                                      \n",
       "2061  Jaffrey, N.H. Facility to Upgrade its Wastewater Treatment Systems Under Clean Water Act Settlement                      \n",
       "2062  U.S. EPA commits Sanger, Calif., poultry processor to protect workers, local community from risk of chemical releases    \n",
       "2063  EPA Helps Two New England Communities Plan New Uses for Former Brownfield Sites                                          \n",
       "2064  EPA, DOJ and IDEM Reach Agreement with Hammond Sanitary District, Hammond, Ind., to Resolve Clean Water Act Violations   \n",
       "2065  EPA cites Longview, WA, Oil company for spill prevention and control violations                                          \n",
       "2066  Wilmington Company Is Sentenced For Environmental Crimes                                                                 \n",
       "2067  PCBs and Lead to be removed from Eighteen Mile Creek Superfund Site in Lockport, N.Y.                                    \n",
       "2068  EPA Lifts Outdoor Burn Ban for Yakama Nation                                                                             \n",
       "\n",
       "                                                                                                                        url  \n",
       "2059  https://www.epa.gov/newsreleases/epa-settlement-oregon-landowner-results-wetland-restoration-warrenton                 \n",
       "2060  https://www.epa.gov/newsreleases/epa-continues-ensure-public-health-protection-superfund-sites                         \n",
       "2061  https://www.epa.gov/newsreleases/jaffrey-nh-facility-upgrade-its-wastewater-treatment-systems-under-clean-water-act    \n",
       "2062  https://www.epa.gov/newsreleases/us-epa-commits-sanger-calif-poultry-processor-protect-workers-local-community-risk    \n",
       "2063  https://www.epa.gov/newsreleases/epa-helps-two-new-england-communities-plan-new-uses-former-brownfield-sites           \n",
       "2064  https://www.epa.gov/newsreleases/epa-doj-and-idem-reach-agreement-hammond-sanitary-district-hammond-ind-resolve-clean  \n",
       "2065  https://www.epa.gov/newsreleases/epa-cites-longview-wa-oil-company-spill-prevention-and-control-violations             \n",
       "2066  https://www.epa.gov/newsreleases/wilmington-company-sentenced-environmental-crimes                                     \n",
       "2067  https://www.epa.gov/newsreleases/pcbs-and-lead-be-removed-eighteen-mile-creek-superfund-site-lockport-ny               \n",
       "2068  https://www.epa.gov/newsreleases/epa-lifts-outdoor-burn-ban-yakama-nation                                              "
      ]
     },
     "execution_count": 62,
     "metadata": {},
     "output_type": "execute_result"
    }
   ],
   "source": [
    "all_df.tail(10)"
   ]
  },
  {
   "cell_type": "code",
   "execution_count": 63,
   "metadata": {},
   "outputs": [],
   "source": [
    "all_df.to_csv('Text_EPA_press_releases.csv', index=False)"
   ]
  },
  {
   "cell_type": "code",
   "execution_count": null,
   "metadata": {},
   "outputs": [],
   "source": []
  }
 ],
 "metadata": {
  "kernelspec": {
   "display_name": "Python 3",
   "language": "python",
   "name": "python3"
  },
  "language_info": {
   "codemirror_mode": {
    "name": "ipython",
    "version": 3
   },
   "file_extension": ".py",
   "mimetype": "text/x-python",
   "name": "python",
   "nbconvert_exporter": "python",
   "pygments_lexer": "ipython3",
   "version": "3.5.4"
  }
 },
 "nbformat": 4,
 "nbformat_minor": 2
}
